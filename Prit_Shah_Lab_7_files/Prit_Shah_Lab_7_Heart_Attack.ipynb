{
 "cells": [
  {
   "cell_type": "raw",
   "metadata": {},
   "source": [
    "---\n",
    "self-contained: true\n",
    "title: \"\"\n",
    "author : \"Prit shah\"\n",
    "date : \"11/27/2023\"\n",
    "date-format: long\n",
    "format :\n",
    "    html:\n",
    "        mainfront: sans-serif;\n",
    "---"
   ]
  },
  {
   "cell_type": "code",
   "execution_count": 3,
   "metadata": {
    "id": "9uJOhzF5F75P"
   },
   "outputs": [],
   "source": [
    "import pandas as pd\n",
    "import numpy as np\n",
    "from sklearn.model_selection import train_test_split\n",
    "from sklearn.neighbors import KNeighborsClassifier\n",
    "from sklearn.model_selection import GridSearchCV\n",
    "from sklearn.metrics import roc_auc_score, confusion_matrix\n",
    "from sklearn.linear_model import LogisticRegression\n",
    "from sklearn.tree import DecisionTreeClassifier\n",
    "from sklearn.metrics import roc_curve, auc\n",
    "from plotnine import ggplot, geom_line, aes, labs, theme_minimal\n",
    "from sklearn.model_selection import cross_val_predict\n",
    "from sklearn.metrics import recall_score, precision_score\n",
    "from sklearn.metrics import cohen_kappa_score"
   ]
  },
  {
   "cell_type": "code",
   "execution_count": 109,
   "metadata": {
    "colab": {
     "base_uri": "https://localhost:8080/",
     "height": 424
    },
    "id": "Zdlet8ksDQCR",
    "outputId": "41fbad72-9046-4ac7-99eb-536ceeb21efb"
   },
   "outputs": [
    {
     "data": {
      "text/html": [
       "\n",
       "  <div id=\"df-86adad16-4e4d-4619-bbf9-67c3138f8462\" class=\"colab-df-container\">\n",
       "    <div>\n",
       "<style scoped>\n",
       "    .dataframe tbody tr th:only-of-type {\n",
       "        vertical-align: middle;\n",
       "    }\n",
       "\n",
       "    .dataframe tbody tr th {\n",
       "        vertical-align: top;\n",
       "    }\n",
       "\n",
       "    .dataframe thead th {\n",
       "        text-align: right;\n",
       "    }\n",
       "</style>\n",
       "<table border=\"1\" class=\"dataframe\">\n",
       "  <thead>\n",
       "    <tr style=\"text-align: right;\">\n",
       "      <th></th>\n",
       "      <th>age</th>\n",
       "      <th>sex</th>\n",
       "      <th>cp</th>\n",
       "      <th>trtbps</th>\n",
       "      <th>chol</th>\n",
       "      <th>restecg</th>\n",
       "      <th>thalach</th>\n",
       "      <th>output</th>\n",
       "    </tr>\n",
       "  </thead>\n",
       "  <tbody>\n",
       "    <tr>\n",
       "      <th>0</th>\n",
       "      <td>63</td>\n",
       "      <td>1</td>\n",
       "      <td>3</td>\n",
       "      <td>145</td>\n",
       "      <td>233</td>\n",
       "      <td>0</td>\n",
       "      <td>150</td>\n",
       "      <td>1</td>\n",
       "    </tr>\n",
       "    <tr>\n",
       "      <th>1</th>\n",
       "      <td>37</td>\n",
       "      <td>1</td>\n",
       "      <td>2</td>\n",
       "      <td>130</td>\n",
       "      <td>250</td>\n",
       "      <td>1</td>\n",
       "      <td>187</td>\n",
       "      <td>1</td>\n",
       "    </tr>\n",
       "    <tr>\n",
       "      <th>2</th>\n",
       "      <td>56</td>\n",
       "      <td>1</td>\n",
       "      <td>1</td>\n",
       "      <td>120</td>\n",
       "      <td>236</td>\n",
       "      <td>1</td>\n",
       "      <td>178</td>\n",
       "      <td>1</td>\n",
       "    </tr>\n",
       "    <tr>\n",
       "      <th>3</th>\n",
       "      <td>57</td>\n",
       "      <td>0</td>\n",
       "      <td>0</td>\n",
       "      <td>120</td>\n",
       "      <td>354</td>\n",
       "      <td>1</td>\n",
       "      <td>163</td>\n",
       "      <td>1</td>\n",
       "    </tr>\n",
       "    <tr>\n",
       "      <th>4</th>\n",
       "      <td>57</td>\n",
       "      <td>1</td>\n",
       "      <td>0</td>\n",
       "      <td>140</td>\n",
       "      <td>192</td>\n",
       "      <td>1</td>\n",
       "      <td>148</td>\n",
       "      <td>1</td>\n",
       "    </tr>\n",
       "    <tr>\n",
       "      <th>...</th>\n",
       "      <td>...</td>\n",
       "      <td>...</td>\n",
       "      <td>...</td>\n",
       "      <td>...</td>\n",
       "      <td>...</td>\n",
       "      <td>...</td>\n",
       "      <td>...</td>\n",
       "      <td>...</td>\n",
       "    </tr>\n",
       "    <tr>\n",
       "      <th>268</th>\n",
       "      <td>59</td>\n",
       "      <td>1</td>\n",
       "      <td>0</td>\n",
       "      <td>164</td>\n",
       "      <td>176</td>\n",
       "      <td>0</td>\n",
       "      <td>90</td>\n",
       "      <td>0</td>\n",
       "    </tr>\n",
       "    <tr>\n",
       "      <th>269</th>\n",
       "      <td>57</td>\n",
       "      <td>0</td>\n",
       "      <td>0</td>\n",
       "      <td>140</td>\n",
       "      <td>241</td>\n",
       "      <td>1</td>\n",
       "      <td>123</td>\n",
       "      <td>0</td>\n",
       "    </tr>\n",
       "    <tr>\n",
       "      <th>270</th>\n",
       "      <td>45</td>\n",
       "      <td>1</td>\n",
       "      <td>3</td>\n",
       "      <td>110</td>\n",
       "      <td>264</td>\n",
       "      <td>1</td>\n",
       "      <td>132</td>\n",
       "      <td>0</td>\n",
       "    </tr>\n",
       "    <tr>\n",
       "      <th>271</th>\n",
       "      <td>68</td>\n",
       "      <td>1</td>\n",
       "      <td>0</td>\n",
       "      <td>144</td>\n",
       "      <td>193</td>\n",
       "      <td>1</td>\n",
       "      <td>141</td>\n",
       "      <td>0</td>\n",
       "    </tr>\n",
       "    <tr>\n",
       "      <th>272</th>\n",
       "      <td>57</td>\n",
       "      <td>0</td>\n",
       "      <td>1</td>\n",
       "      <td>130</td>\n",
       "      <td>236</td>\n",
       "      <td>0</td>\n",
       "      <td>174</td>\n",
       "      <td>0</td>\n",
       "    </tr>\n",
       "  </tbody>\n",
       "</table>\n",
       "<p>273 rows × 8 columns</p>\n",
       "</div>\n",
       "    <div class=\"colab-df-buttons\">\n",
       "\n",
       "  <div class=\"colab-df-container\">\n",
       "    <button class=\"colab-df-convert\" onclick=\"convertToInteractive('df-86adad16-4e4d-4619-bbf9-67c3138f8462')\"\n",
       "            title=\"Convert this dataframe to an interactive table.\"\n",
       "            style=\"display:none;\">\n",
       "\n",
       "  <svg xmlns=\"http://www.w3.org/2000/svg\" height=\"24px\" viewBox=\"0 -960 960 960\">\n",
       "    <path d=\"M120-120v-720h720v720H120Zm60-500h600v-160H180v160Zm220 220h160v-160H400v160Zm0 220h160v-160H400v160ZM180-400h160v-160H180v160Zm440 0h160v-160H620v160ZM180-180h160v-160H180v160Zm440 0h160v-160H620v160Z\"/>\n",
       "  </svg>\n",
       "    </button>\n",
       "\n",
       "  <style>\n",
       "    .colab-df-container {\n",
       "      display:flex;\n",
       "      gap: 12px;\n",
       "    }\n",
       "\n",
       "    .colab-df-convert {\n",
       "      background-color: #E8F0FE;\n",
       "      border: none;\n",
       "      border-radius: 50%;\n",
       "      cursor: pointer;\n",
       "      display: none;\n",
       "      fill: #1967D2;\n",
       "      height: 32px;\n",
       "      padding: 0 0 0 0;\n",
       "      width: 32px;\n",
       "    }\n",
       "\n",
       "    .colab-df-convert:hover {\n",
       "      background-color: #E2EBFA;\n",
       "      box-shadow: 0px 1px 2px rgba(60, 64, 67, 0.3), 0px 1px 3px 1px rgba(60, 64, 67, 0.15);\n",
       "      fill: #174EA6;\n",
       "    }\n",
       "\n",
       "    .colab-df-buttons div {\n",
       "      margin-bottom: 4px;\n",
       "    }\n",
       "\n",
       "    [theme=dark] .colab-df-convert {\n",
       "      background-color: #3B4455;\n",
       "      fill: #D2E3FC;\n",
       "    }\n",
       "\n",
       "    [theme=dark] .colab-df-convert:hover {\n",
       "      background-color: #434B5C;\n",
       "      box-shadow: 0px 1px 3px 1px rgba(0, 0, 0, 0.15);\n",
       "      filter: drop-shadow(0px 1px 2px rgba(0, 0, 0, 0.3));\n",
       "      fill: #FFFFFF;\n",
       "    }\n",
       "  </style>\n",
       "\n",
       "    <script>\n",
       "      const buttonEl =\n",
       "        document.querySelector('#df-86adad16-4e4d-4619-bbf9-67c3138f8462 button.colab-df-convert');\n",
       "      buttonEl.style.display =\n",
       "        google.colab.kernel.accessAllowed ? 'block' : 'none';\n",
       "\n",
       "      async function convertToInteractive(key) {\n",
       "        const element = document.querySelector('#df-86adad16-4e4d-4619-bbf9-67c3138f8462');\n",
       "        const dataTable =\n",
       "          await google.colab.kernel.invokeFunction('convertToInteractive',\n",
       "                                                    [key], {});\n",
       "        if (!dataTable) return;\n",
       "\n",
       "        const docLinkHtml = 'Like what you see? Visit the ' +\n",
       "          '<a target=\"_blank\" href=https://colab.research.google.com/notebooks/data_table.ipynb>data table notebook</a>'\n",
       "          + ' to learn more about interactive tables.';\n",
       "        element.innerHTML = '';\n",
       "        dataTable['output_type'] = 'display_data';\n",
       "        await google.colab.output.renderOutput(dataTable, element);\n",
       "        const docLink = document.createElement('div');\n",
       "        docLink.innerHTML = docLinkHtml;\n",
       "        element.appendChild(docLink);\n",
       "      }\n",
       "    </script>\n",
       "  </div>\n",
       "\n",
       "\n",
       "<div id=\"df-8017a960-4a6f-4827-b02a-fc7e0faf2d52\">\n",
       "  <button class=\"colab-df-quickchart\" onclick=\"quickchart('df-8017a960-4a6f-4827-b02a-fc7e0faf2d52')\"\n",
       "            title=\"Suggest charts\"\n",
       "            style=\"display:none;\">\n",
       "\n",
       "<svg xmlns=\"http://www.w3.org/2000/svg\" height=\"24px\"viewBox=\"0 0 24 24\"\n",
       "     width=\"24px\">\n",
       "    <g>\n",
       "        <path d=\"M19 3H5c-1.1 0-2 .9-2 2v14c0 1.1.9 2 2 2h14c1.1 0 2-.9 2-2V5c0-1.1-.9-2-2-2zM9 17H7v-7h2v7zm4 0h-2V7h2v10zm4 0h-2v-4h2v4z\"/>\n",
       "    </g>\n",
       "</svg>\n",
       "  </button>\n",
       "\n",
       "<style>\n",
       "  .colab-df-quickchart {\n",
       "      --bg-color: #E8F0FE;\n",
       "      --fill-color: #1967D2;\n",
       "      --hover-bg-color: #E2EBFA;\n",
       "      --hover-fill-color: #174EA6;\n",
       "      --disabled-fill-color: #AAA;\n",
       "      --disabled-bg-color: #DDD;\n",
       "  }\n",
       "\n",
       "  [theme=dark] .colab-df-quickchart {\n",
       "      --bg-color: #3B4455;\n",
       "      --fill-color: #D2E3FC;\n",
       "      --hover-bg-color: #434B5C;\n",
       "      --hover-fill-color: #FFFFFF;\n",
       "      --disabled-bg-color: #3B4455;\n",
       "      --disabled-fill-color: #666;\n",
       "  }\n",
       "\n",
       "  .colab-df-quickchart {\n",
       "    background-color: var(--bg-color);\n",
       "    border: none;\n",
       "    border-radius: 50%;\n",
       "    cursor: pointer;\n",
       "    display: none;\n",
       "    fill: var(--fill-color);\n",
       "    height: 32px;\n",
       "    padding: 0;\n",
       "    width: 32px;\n",
       "  }\n",
       "\n",
       "  .colab-df-quickchart:hover {\n",
       "    background-color: var(--hover-bg-color);\n",
       "    box-shadow: 0 1px 2px rgba(60, 64, 67, 0.3), 0 1px 3px 1px rgba(60, 64, 67, 0.15);\n",
       "    fill: var(--button-hover-fill-color);\n",
       "  }\n",
       "\n",
       "  .colab-df-quickchart-complete:disabled,\n",
       "  .colab-df-quickchart-complete:disabled:hover {\n",
       "    background-color: var(--disabled-bg-color);\n",
       "    fill: var(--disabled-fill-color);\n",
       "    box-shadow: none;\n",
       "  }\n",
       "\n",
       "  .colab-df-spinner {\n",
       "    border: 2px solid var(--fill-color);\n",
       "    border-color: transparent;\n",
       "    border-bottom-color: var(--fill-color);\n",
       "    animation:\n",
       "      spin 1s steps(1) infinite;\n",
       "  }\n",
       "\n",
       "  @keyframes spin {\n",
       "    0% {\n",
       "      border-color: transparent;\n",
       "      border-bottom-color: var(--fill-color);\n",
       "      border-left-color: var(--fill-color);\n",
       "    }\n",
       "    20% {\n",
       "      border-color: transparent;\n",
       "      border-left-color: var(--fill-color);\n",
       "      border-top-color: var(--fill-color);\n",
       "    }\n",
       "    30% {\n",
       "      border-color: transparent;\n",
       "      border-left-color: var(--fill-color);\n",
       "      border-top-color: var(--fill-color);\n",
       "      border-right-color: var(--fill-color);\n",
       "    }\n",
       "    40% {\n",
       "      border-color: transparent;\n",
       "      border-right-color: var(--fill-color);\n",
       "      border-top-color: var(--fill-color);\n",
       "    }\n",
       "    60% {\n",
       "      border-color: transparent;\n",
       "      border-right-color: var(--fill-color);\n",
       "    }\n",
       "    80% {\n",
       "      border-color: transparent;\n",
       "      border-right-color: var(--fill-color);\n",
       "      border-bottom-color: var(--fill-color);\n",
       "    }\n",
       "    90% {\n",
       "      border-color: transparent;\n",
       "      border-bottom-color: var(--fill-color);\n",
       "    }\n",
       "  }\n",
       "</style>\n",
       "\n",
       "  <script>\n",
       "    async function quickchart(key) {\n",
       "      const quickchartButtonEl =\n",
       "        document.querySelector('#' + key + ' button');\n",
       "      quickchartButtonEl.disabled = true;  // To prevent multiple clicks.\n",
       "      quickchartButtonEl.classList.add('colab-df-spinner');\n",
       "      try {\n",
       "        const charts = await google.colab.kernel.invokeFunction(\n",
       "            'suggestCharts', [key], {});\n",
       "      } catch (error) {\n",
       "        console.error('Error during call to suggestCharts:', error);\n",
       "      }\n",
       "      quickchartButtonEl.classList.remove('colab-df-spinner');\n",
       "      quickchartButtonEl.classList.add('colab-df-quickchart-complete');\n",
       "    }\n",
       "    (() => {\n",
       "      let quickchartButtonEl =\n",
       "        document.querySelector('#df-8017a960-4a6f-4827-b02a-fc7e0faf2d52 button');\n",
       "      quickchartButtonEl.style.display =\n",
       "        google.colab.kernel.accessAllowed ? 'block' : 'none';\n",
       "    })();\n",
       "  </script>\n",
       "</div>\n",
       "    </div>\n",
       "  </div>\n"
      ],
      "text/plain": [
       "     age  sex  cp  trtbps  chol  restecg  thalach  output\n",
       "0     63    1   3     145   233        0      150       1\n",
       "1     37    1   2     130   250        1      187       1\n",
       "2     56    1   1     120   236        1      178       1\n",
       "3     57    0   0     120   354        1      163       1\n",
       "4     57    1   0     140   192        1      148       1\n",
       "..   ...  ...  ..     ...   ...      ...      ...     ...\n",
       "268   59    1   0     164   176        0       90       0\n",
       "269   57    0   0     140   241        1      123       0\n",
       "270   45    1   3     110   264        1      132       0\n",
       "271   68    1   0     144   193        1      141       0\n",
       "272   57    0   1     130   236        0      174       0\n",
       "\n",
       "[273 rows x 8 columns]"
      ]
     },
     "execution_count": 109,
     "metadata": {},
     "output_type": "execute_result"
    }
   ],
   "source": [
    "heart_attack = pd.read_csv(\"https://www.dropbox.com/s/aohbr6yb9ifmc8w/heart_attack.csv?dl=1\")\n",
    "heart_attack"
   ]
  },
  {
   "cell_type": "code",
   "execution_count": 110,
   "metadata": {
    "colab": {
     "base_uri": "https://localhost:8080/"
    },
    "id": "d3xrYVLCF6fg",
    "outputId": "4c57d5cd-c975-4fe5-e4f4-13ca591454b6"
   },
   "outputs": [
    {
     "name": "stdout",
     "output_type": "stream",
     "text": [
      "Missing values in dataset:\n",
      " age        0\n",
      "sex        0\n",
      "cp         0\n",
      "trtbps     0\n",
      "chol       0\n",
      "restecg    0\n",
      "thalach    0\n",
      "output     0\n",
      "dtype: int64\n",
      "\n",
      "Data types:\n",
      " age        int64\n",
      "sex        int64\n",
      "cp         int64\n",
      "trtbps     int64\n",
      "chol       int64\n",
      "restecg    int64\n",
      "thalach    int64\n",
      "output     int64\n",
      "dtype: object\n"
     ]
    }
   ],
   "source": [
    "print(\"Missing values in dataset:\\n\", heart_attack.isnull().sum())\n",
    "\n",
    "print(\"\\nData types:\\n\", heart_attack.dtypes)\n",
    "\n",
    "X = heart_attack.drop('output', axis=1)\n",
    "y = heart_attack['output']\n",
    "\n",
    "X_train, X_test, y_train, y_test = train_test_split(X, y, test_size = 0.2, random_state =42)"
   ]
  },
  {
   "cell_type": "markdown",
   "metadata": {
    "id": "hYpUMQQCfUhR"
   },
   "source": [
    "Part One: Fitting Models\n",
    "This section asks you to create a final best model for each of the model types studied this week. For each, you should:\n",
    "\n",
    "Find the best model based on ROC AUC for predicting the target variable.\n",
    "\n",
    "Report the (cross-validated!) ROC AUC metric.\n",
    "\n",
    "Fit the final model.\n",
    "\n",
    "Output a confusion matrix; that is, the counts of how many observations fell into each predicted class for each true class.\n",
    "\n",
    "(Where applicable) Interpret the coefficients and/or estimates produced by the model fit.\n",
    "\n",
    "You should certainly try multiple model pipelines to find the best model. You do not need to include the output for every attempted model, but you should describe all of the models explored. You should include any hyperparameter tuning steps in your writeup as well."
   ]
  },
  {
   "cell_type": "markdown",
   "metadata": {
    "id": "JQvTx1N2qqht"
   },
   "source": [
    "Q1: KNN"
   ]
  },
  {
   "cell_type": "code",
   "execution_count": 111,
   "metadata": {
    "id": "DThfuDVofZj9"
   },
   "outputs": [],
   "source": [
    "knn_param_grid = {\"n_neighbors\" : range(1, 20)}\n",
    "\n",
    "knn_grid = GridSearchCV(KNeighborsClassifier(), knn_param_grid, cv = 5, scoring = \"roc_auc\")\n",
    "\n",
    "knn_grid.fit(X_train, y_train)\n",
    "\n",
    "best_knn = knn_grid.best_estimator_\n",
    "\n",
    "y_pred_knn = best_knn.predict(X_test)\n",
    "\n",
    "roc_auc_knn = roc_auc_score(y_test, y_pred_knn)\n",
    "\n",
    "conf_matrix_knn = confusion_matrix(y_test, y_pred_knn)"
   ]
  },
  {
   "cell_type": "markdown",
   "metadata": {
    "id": "r59Ukhp2qpcM"
   },
   "source": [
    "Q2: Logistic Regression"
   ]
  },
  {
   "cell_type": "code",
   "execution_count": 112,
   "metadata": {
    "id": "-j5kyUq2qp2o"
   },
   "outputs": [],
   "source": [
    "logreg_cv = GridSearchCV(LogisticRegression(max_iter = 1000),\n",
    "                         {\"C\" : [0.01, 0.1, 1, 10, 100]},\n",
    "                         cv = 5,\n",
    "                         scoring = \"roc_auc\")\n",
    "\n",
    "logreg_cv.fit(X_train, y_train)\n",
    "\n",
    "best_logreg = logreg_cv.best_estimator_\n",
    "\n",
    "y_pred_logreg = best_logreg.predict(X_test)\n",
    "\n",
    "roc_auc_logreg = roc_auc_score(y_test, y_pred_logreg)\n",
    "\n",
    "conf_matrix_logreg = confusion_matrix(y_test, y_pred_logreg)"
   ]
  },
  {
   "cell_type": "markdown",
   "metadata": {
    "id": "9vND7V4mqyp1"
   },
   "source": [
    "Q3: Decision Tree"
   ]
  },
  {
   "cell_type": "code",
   "execution_count": 113,
   "metadata": {
    "id": "U6tQour6qzDU"
   },
   "outputs": [],
   "source": [
    "dtree_cv = GridSearchCV(DecisionTreeClassifier(),\n",
    "                        {\"max_depth\" : range(1, 10)},\n",
    "                        cv = 5,\n",
    "                        scoring = \"roc_auc\")\n",
    "\n",
    "dtree_cv.fit(X_train, y_train)\n",
    "\n",
    "best_dtree = dtree_cv.best_estimator_\n",
    "\n",
    "y_pred_dtree = best_dtree.predict(X_test)\n",
    "\n",
    "roc_auc_dtree = roc_auc_score(y_test, y_pred_dtree)\n",
    "\n",
    "conf_matrix_dtree = confusion_matrix(y_test, y_pred_dtree)"
   ]
  },
  {
   "cell_type": "markdown",
   "metadata": {
    "id": "5mgRpguhq2_Z"
   },
   "source": [
    "Q4: Interpretation\n",
    "\n",
    "Which predictors were most important to predicting heart attack risk?"
   ]
  },
  {
   "cell_type": "code",
   "execution_count": 114,
   "metadata": {
    "colab": {
     "base_uri": "https://localhost:8080/"
    },
    "id": "8ItPv5BIZ6qv",
    "outputId": "e177e628-7065-47a2-e8cc-60f85deda734"
   },
   "outputs": [
    {
     "name": "stdout",
     "output_type": "stream",
     "text": [
      " KNN Coefficients:\n",
      " KNeighborsClassifier(n_neighbors=19)\n"
     ]
    }
   ],
   "source": [
    "knn_importance = knn_grid.best_estimator_\n",
    "\n",
    "print(\" KNN Coefficients:\\n\", knn_importance)"
   ]
  },
  {
   "cell_type": "code",
   "execution_count": 115,
   "metadata": {
    "colab": {
     "base_uri": "https://localhost:8080/"
    },
    "id": "soeNCAJsrDic",
    "outputId": "d7ef08e0-6613-45ad-cdf2-e16479b1531f"
   },
   "outputs": [
    {
     "name": "stdout",
     "output_type": "stream",
     "text": [
      "Logistic Regression Coefficients:\n",
      " [[-0.03170367 -2.64748235  0.86594825 -0.01567944 -0.00523816  0.07750405\n",
      "   0.05836355]]\n"
     ]
    }
   ],
   "source": [
    "logreg_coefficients = best_logreg.coef_\n",
    "\n",
    "print(\"Logistic Regression Coefficients:\\n\", logreg_coefficients)"
   ]
  },
  {
   "cell_type": "code",
   "execution_count": 116,
   "metadata": {
    "colab": {
     "base_uri": "https://localhost:8080/"
    },
    "id": "39uuRebuq3dy",
    "outputId": "d9299e46-06fc-43cc-89bd-23ad59ac2121"
   },
   "outputs": [
    {
     "name": "stdout",
     "output_type": "stream",
     "text": [
      "Decision Tree Feature Importances:\n",
      " [0.06060173 0.1000221  0.56811591 0.06091251 0.         0.\n",
      " 0.21034775]\n"
     ]
    }
   ],
   "source": [
    "dtree_importance = best_dtree.feature_importances_\n",
    "\n",
    "print(\"Decision Tree Feature Importances:\\n\", dtree_importance)"
   ]
  },
  {
   "cell_type": "markdown",
   "metadata": {
    "id": "Db_sR7oGq8gI"
   },
   "source": [
    "#Q5: ROC Curve\n",
    "\n",
    "Plot the ROC Curve for your three models above."
   ]
  },
  {
   "cell_type": "code",
   "execution_count": 117,
   "metadata": {
    "colab": {
     "base_uri": "https://localhost:8080/",
     "height": 497
    },
    "id": "wtSF1fb5Dd--",
    "outputId": "8ef18a9a-5fbf-4f98-8dfe-15b2f24099e4"
   },
   "outputs": [
    {
     "data": {
      "image/png": "[encoded data removed]",
      "text/plain": [
       "<Figure size 640x480 with 1 Axes>"
      ]
     },
     "execution_count": 117,
     "metadata": {
      "image/png": {
       "height": 480,
       "width": 640
      }
     },
     "output_type": "execute_result"
    }
   ],
   "source": [
    "fpr_knn, tpr_knn, _ = roc_curve(y_test, knn_grid.predict_proba(X_test)[:, 1])\n",
    "roc_auc_knn = auc(fpr_knn, tpr_knn)\n",
    "\n",
    "fpr_logreg, tpr_logreg, _ = roc_curve(y_test, logreg_cv.predict_proba(X_test)[:, 1])\n",
    "roc_auc_logreg = auc(fpr_logreg, tpr_logreg)\n",
    "\n",
    "fpr_dtree, tpr_dtree, _ = roc_curve(y_test, dtree_cv.predict_proba(X_test)[:, 1])\n",
    "roc_auc_dtree = auc(fpr_dtree, tpr_dtree)\n",
    "\n",
    "roc_data = pd.DataFrame({\n",
    "    'FPR': fpr_knn.tolist() + fpr_logreg.tolist() + fpr_dtree.tolist(),\n",
    "    'TPR': tpr_knn.tolist() + tpr_logreg.tolist() + tpr_dtree.tolist(),\n",
    "    'Model': ['KNN']*len(fpr_knn) + ['Logistic Regression']*len(fpr_logreg) + ['Decision Tree']*len(fpr_dtree)})\n",
    "\n",
    "(ggplot(roc_data, aes(x='FPR', y='TPR', color='Model'))\n",
    " + geom_line()\n",
    " + labs(title=\"ROC Curves\", x=\"False Positive Rate\", y=\"True Positive Rate\")\n",
    " + theme_minimal()\n",
    ").draw()\n"
   ]
  },
  {
   "cell_type": "markdown",
   "metadata": {
    "id": "ffeVo5zxHVg_"
   },
   "source": [
    "Part Two: Metrics\n",
    "Consider the following metrics:\n",
    "\n",
    "True Positive Rate or Recall or Sensitivity = Of the observations that are truly Class A, how many were predicted to be Class A?\n",
    "\n",
    "Precision or Positive Predictive Value = Of all the observations classified as Class A, how many of them were truly from Class A?\n",
    "\n",
    "True Negative Rate or Specificity or Negative Predictive Value = Of all the observations classified as NOT Class A, how many were truly NOT Class A?\n",
    "\n"
   ]
  },
  {
   "cell_type": "markdown",
   "metadata": {
    "id": "b8WbEfKAHY0-"
   },
   "source": [
    "Compute each of these metrics (cross-validated) for your three models (KNN, Logistic Regression, and Decision Tree) in Part One"
   ]
  },
  {
   "cell_type": "code",
   "execution_count": 118,
   "metadata": {
    "colab": {
     "base_uri": "https://localhost:8080/"
    },
    "id": "uKBtas4YHYgc",
    "outputId": "bfe00002-614b-42d4-e139-fbfb14ee70c2"
   },
   "outputs": [
    {
     "name": "stdout",
     "output_type": "stream",
     "text": [
      "KNN - Recall: 0.678082191780822, Precision: 0.6513157894736842, Specificity: 0.5826771653543307\n"
     ]
    }
   ],
   "source": [
    "y_pred_knn_cv = cross_val_predict(best_knn, X, y, cv=5)\n",
    "\n",
    "recall_knn = recall_score(y, y_pred_knn_cv)\n",
    "precision_knn = precision_score(y, y_pred_knn_cv)\n",
    "tn_knn, fp_knn, fn_knn, tp_knn = confusion_matrix(y, y_pred_knn_cv).ravel()\n",
    "specificity_knn = tn_knn / (tn_knn + fp_knn)\n",
    "\n",
    "print(f\"KNN - Recall: {recall_knn}, Precision: {precision_knn}, Specificity: {specificity_knn}\")"
   ]
  },
  {
   "cell_type": "code",
   "execution_count": 119,
   "metadata": {
    "colab": {
     "base_uri": "https://localhost:8080/"
    },
    "id": "rECdEsgmHdfL",
    "outputId": "259bce8a-3791-499f-ccba-89aefbafcf09"
   },
   "outputs": [
    {
     "name": "stdout",
     "output_type": "stream",
     "text": [
      "Logistic Regression - Recall: 0.815068493150685, Precision: 0.7828947368421053, Specificity: 0.7401574803149606\n"
     ]
    }
   ],
   "source": [
    "y_pred_logreg_cv = cross_val_predict(best_logreg, X, y, cv=5)\n",
    "\n",
    "recall_logreg = recall_score(y, y_pred_logreg_cv)\n",
    "precision_logreg = precision_score(y, y_pred_logreg_cv)\n",
    "tn_logreg, fp_logreg, fn_logreg, tp_logreg = confusion_matrix(y, y_pred_logreg_cv).ravel()\n",
    "specificity_logreg = tn_logreg / (tn_logreg + fp_logreg)\n",
    "\n",
    "print(f\"Logistic Regression - Recall: {recall_logreg}, Precision: {precision_logreg}, Specificity: {specificity_logreg}\")"
   ]
  },
  {
   "cell_type": "code",
   "execution_count": 120,
   "metadata": {
    "colab": {
     "base_uri": "https://localhost:8080/"
    },
    "id": "2mVHJkl4Hg-j",
    "outputId": "65a00fff-40f8-4396-f397-cbedb976b72d"
   },
   "outputs": [
    {
     "name": "stdout",
     "output_type": "stream",
     "text": [
      "Decision Tree - Recall: 0.7465753424657534, Precision: 0.7956204379562044, Specificity: 0.7795275590551181\n"
     ]
    }
   ],
   "source": [
    "y_pred_dtree_cv = cross_val_predict(best_dtree, X, y, cv=5)\n",
    "\n",
    "recall_dtree = recall_score(y, y_pred_dtree_cv)\n",
    "precision_dtree = precision_score(y, y_pred_dtree_cv)\n",
    "tn_dtree, fp_dtree, fn_dtree, tp_dtree = confusion_matrix(y, y_pred_dtree_cv).ravel()\n",
    "specificity_dtree = tn_dtree / (tn_dtree + fp_dtree)\n",
    "\n",
    "print(f\"Decision Tree - Recall: {recall_dtree}, Precision: {precision_dtree}, Specificity: {specificity_dtree}\")"
   ]
  },
  {
   "cell_type": "markdown",
   "metadata": {
    "id": "_HTOL4aCbGhI"
   },
   "source": [
    "#Part Three: Discussion\n",
    "Suppose you have been hired by a hospital to create classification models for heart attack risk.\n",
    "\n",
    "The following questions give a possible scenario for why the hospital is interested in these models. For each one, discuss:"
   ]
  },
  {
   "cell_type": "markdown",
   "metadata": {
    "id": "DEIpYvOQbLhq"
   },
   "source": [
    "Which metric(s) you would use for model selection and why."
   ]
  },
  {
   "cell_type": "markdown",
   "metadata": {
    "id": "EPkdbOVonx-V"
   },
   "source": [
    "True Positive Rate (Recall or Sensitivity): Crucial for scenarios where missing a high-risk patient (false negative) could be catastrophic. A high recall indicates the model is good at catching most of the positive cases.\n",
    "\n",
    "Precision (Positive Predictive Value): Important when the cost of a false positive is high. In a hospital setting, this could mean unnecessary treatments or tests.\n",
    "\n",
    "ROC AUC: Useful for evaluating the overall performance of a model, particularly its ability to distinguish between classes.\n",
    "\n",
    "Specificity (True Negative Rate): Vital in situations where you want to confidently rule out patients who are not at risk."
   ]
  },
  {
   "cell_type": "markdown",
   "metadata": {
    "id": "sYUlJMtDbL_i"
   },
   "source": [
    "Which of your final models (Part One Q1-3) you would recommend to the hospital, and why."
   ]
  },
  {
   "cell_type": "markdown",
   "metadata": {
    "id": "8kYbUtc9oqBJ"
   },
   "source": [
    "If the hospital's primary concern is accuracy and it has the computational resources to handle it, KNN might be the best choice. For a balance between interpretability and performance, especially when linear relationships are expected, Logistic Regression would be ideal.\n",
    "\n",
    "If interpretability, especially understanding the decision-making process of the model, is crucial, and the hospital is dealing with complex, non-linear patterns in data, a Decision Tree would be recommended.\n",
    "\n",
    " It's essential to consider that each model has its strengths and weaknesses, and the choice should align with the hospital's specific needs and constraints. Additionally, the performance metrics (like ROC AUC, recall, precision) of each model on the cross-validation should also be a deciding factor, as they provide an objective measure of each model's ability to predict heart attack risk accurately."
   ]
  },
  {
   "cell_type": "markdown",
   "metadata": {
    "id": "u-9ocNHXbNmP"
   },
   "source": [
    "What score you should expect for your chosen metric(s) using your chosen model to predict future observations."
   ]
  },
  {
   "cell_type": "markdown",
   "metadata": {
    "id": "Z8JuZIripjiB"
   },
   "source": [
    "The expected score for your chosen metrics using the selected model to predict future observations can be estimated based on the cross-validated metrics obtained during model training. However, it's important to note that these estimates are just that – estimates. The actual performance on future data may vary due to several factors, such as changes in the characteristics of the patient population or differences between the training data and new data."
   ]
  },
  {
   "cell_type": "markdown",
   "metadata": {
    "id": "1DYjtgZ9bVyS"
   },
   "source": [
    "#Q1\n",
    "The hospital faces severe lawsuits if they deem a patient to be low risk, and that patient later experiences a heart attack."
   ]
  },
  {
   "cell_type": "markdown",
   "metadata": {
    "id": "48yM7qSSsp8o"
   },
   "source": [
    "Key Metric: Recall (True Positive Rate).\n",
    "\n",
    "Reason: High recall minimizes the chance of missing a high-risk patient (false negatives).\n",
    "\n",
    "Expected Score: Look for a model that has demonstrated the highest recall in your cross-validation. However, it's important to remember that a very high recall might come at the expense of precision, leading to more false positives.\n",
    "\n",
    "Recommended Model: Typically, a Decision Tree or Logistic Regression, depending on which showed higher recall in your tests."
   ]
  },
  {
   "cell_type": "markdown",
   "metadata": {
    "id": "MjpF8Ckjbbj3"
   },
   "source": [
    "#Q2\n",
    "The hospital is overfull, and wants to only use bed space for patients most in n#eed of monitoring due to heart attack risk."
   ]
  },
  {
   "cell_type": "markdown",
   "metadata": {
    "id": "NiMktztYs_iV"
   },
   "source": [
    "Key Metric: Precision (Positive Predictive Value).\n",
    "\n",
    "Reason: High precision ensures that the majority of patients classified as high-risk truly require the bed space.\n",
    "\n",
    "Expected Score: Choose the model with the highest precision from your tests. However, balancing precision with recall is essential to avoid missing too many true high-risk cases.\n",
    "\n",
    "Recommended Model: Logistic Regression often offers a good balance, but it depends on your specific model results."
   ]
  },
  {
   "cell_type": "markdown",
   "metadata": {
    "id": "W6qjYZE_bfTI"
   },
   "source": [
    "#Q3\n",
    "The hospital is studying root causes of heart attacks, and would like to understand which biological measures are associated with heart attack risk.\n",
    "\n"
   ]
  },
  {
   "cell_type": "markdown",
   "metadata": {
    "id": "Lcclx1zJtLsh"
   },
   "source": [
    "Key Metric: Feature Importance or Coefficients.\n",
    "\n",
    "Reason: Understanding which features are most predictive can provide insights into the root causes of heart attacks.\n",
    "\n",
    "Expected Insights: Decision Trees and Logistic Regression provide interpretable models that can highlight the importance of different features.\n",
    "\n",
    "Recommended Model: Decision Tree for non-linear relationships and Logistic Regression for linear relationships."
   ]
  },
  {
   "cell_type": "markdown",
   "metadata": {
    "id": "AfxuuWufbiJc"
   },
   "source": [
    "#Q4\n",
    "The hospital is training a new batch of doctors, and they would like to compare the diagnoses of these doctors to the predictions given by the algorithm to measure the ability of new doctors to diagnose patients."
   ]
  },
  {
   "cell_type": "markdown",
   "metadata": {
    "id": "RlfXGxXQtR15"
   },
   "source": [
    "Key Metric: Overall Accuracy, ROC AUC.\n",
    "\n",
    "Reason: You want a balanced model that generalizes well for comparison purposes.\n",
    "\n",
    "Expected Score: A model with a high ROC AUC would be suitable as it measures the ability to distinguish between classes. Accuracy can also be a straightforward metric for comparison.\n",
    "\n",
    "Recommended Model: Logistic Regression for its interpretability and balance, or KNN if it has demonstrated superior performance in distinguishing between classes."
   ]
  },
  {
   "cell_type": "markdown",
   "metadata": {
    "id": "-bfFIrjgbo5P"
   },
   "source": [
    "Part Four: Validation\n",
    "Before sharing the dataset with you, I set aside a random 10% of the observations to serve as a final validation set."
   ]
  },
  {
   "cell_type": "code",
   "execution_count": 121,
   "metadata": {
    "colab": {
     "base_uri": "https://localhost:8080/",
     "height": 990
    },
    "id": "0WslUTdYbsLI",
    "outputId": "ef896999-a08e-4b93-a10b-6936e7dc0f28"
   },
   "outputs": [
    {
     "data": {
      "text/html": [
       "\n",
       "  <div id=\"df-0d0ef175-1240-418b-9665-5a00b8767610\" class=\"colab-df-container\">\n",
       "    <div>\n",
       "<style scoped>\n",
       "    .dataframe tbody tr th:only-of-type {\n",
       "        vertical-align: middle;\n",
       "    }\n",
       "\n",
       "    .dataframe tbody tr th {\n",
       "        vertical-align: top;\n",
       "    }\n",
       "\n",
       "    .dataframe thead th {\n",
       "        text-align: right;\n",
       "    }\n",
       "</style>\n",
       "<table border=\"1\" class=\"dataframe\">\n",
       "  <thead>\n",
       "    <tr style=\"text-align: right;\">\n",
       "      <th></th>\n",
       "      <th>age</th>\n",
       "      <th>sex</th>\n",
       "      <th>cp</th>\n",
       "      <th>trtbps</th>\n",
       "      <th>chol</th>\n",
       "      <th>restecg</th>\n",
       "      <th>thalach</th>\n",
       "      <th>output</th>\n",
       "    </tr>\n",
       "  </thead>\n",
       "  <tbody>\n",
       "    <tr>\n",
       "      <th>0</th>\n",
       "      <td>41</td>\n",
       "      <td>0</td>\n",
       "      <td>1</td>\n",
       "      <td>130</td>\n",
       "      <td>204</td>\n",
       "      <td>0</td>\n",
       "      <td>172</td>\n",
       "      <td>1</td>\n",
       "    </tr>\n",
       "    <tr>\n",
       "      <th>1</th>\n",
       "      <td>64</td>\n",
       "      <td>1</td>\n",
       "      <td>3</td>\n",
       "      <td>110</td>\n",
       "      <td>211</td>\n",
       "      <td>0</td>\n",
       "      <td>144</td>\n",
       "      <td>1</td>\n",
       "    </tr>\n",
       "    <tr>\n",
       "      <th>2</th>\n",
       "      <td>59</td>\n",
       "      <td>1</td>\n",
       "      <td>0</td>\n",
       "      <td>135</td>\n",
       "      <td>234</td>\n",
       "      <td>1</td>\n",
       "      <td>161</td>\n",
       "      <td>1</td>\n",
       "    </tr>\n",
       "    <tr>\n",
       "      <th>3</th>\n",
       "      <td>42</td>\n",
       "      <td>1</td>\n",
       "      <td>0</td>\n",
       "      <td>140</td>\n",
       "      <td>226</td>\n",
       "      <td>1</td>\n",
       "      <td>178</td>\n",
       "      <td>1</td>\n",
       "    </tr>\n",
       "    <tr>\n",
       "      <th>4</th>\n",
       "      <td>40</td>\n",
       "      <td>1</td>\n",
       "      <td>3</td>\n",
       "      <td>140</td>\n",
       "      <td>199</td>\n",
       "      <td>1</td>\n",
       "      <td>178</td>\n",
       "      <td>1</td>\n",
       "    </tr>\n",
       "    <tr>\n",
       "      <th>5</th>\n",
       "      <td>54</td>\n",
       "      <td>1</td>\n",
       "      <td>2</td>\n",
       "      <td>125</td>\n",
       "      <td>273</td>\n",
       "      <td>0</td>\n",
       "      <td>152</td>\n",
       "      <td>1</td>\n",
       "    </tr>\n",
       "    <tr>\n",
       "      <th>6</th>\n",
       "      <td>52</td>\n",
       "      <td>1</td>\n",
       "      <td>1</td>\n",
       "      <td>134</td>\n",
       "      <td>201</td>\n",
       "      <td>1</td>\n",
       "      <td>158</td>\n",
       "      <td>1</td>\n",
       "    </tr>\n",
       "    <tr>\n",
       "      <th>7</th>\n",
       "      <td>71</td>\n",
       "      <td>0</td>\n",
       "      <td>2</td>\n",
       "      <td>110</td>\n",
       "      <td>265</td>\n",
       "      <td>0</td>\n",
       "      <td>130</td>\n",
       "      <td>1</td>\n",
       "    </tr>\n",
       "    <tr>\n",
       "      <th>8</th>\n",
       "      <td>55</td>\n",
       "      <td>0</td>\n",
       "      <td>1</td>\n",
       "      <td>135</td>\n",
       "      <td>250</td>\n",
       "      <td>0</td>\n",
       "      <td>161</td>\n",
       "      <td>1</td>\n",
       "    </tr>\n",
       "    <tr>\n",
       "      <th>9</th>\n",
       "      <td>58</td>\n",
       "      <td>1</td>\n",
       "      <td>2</td>\n",
       "      <td>105</td>\n",
       "      <td>240</td>\n",
       "      <td>0</td>\n",
       "      <td>154</td>\n",
       "      <td>1</td>\n",
       "    </tr>\n",
       "    <tr>\n",
       "      <th>10</th>\n",
       "      <td>68</td>\n",
       "      <td>1</td>\n",
       "      <td>2</td>\n",
       "      <td>118</td>\n",
       "      <td>277</td>\n",
       "      <td>1</td>\n",
       "      <td>151</td>\n",
       "      <td>1</td>\n",
       "    </tr>\n",
       "    <tr>\n",
       "      <th>11</th>\n",
       "      <td>46</td>\n",
       "      <td>1</td>\n",
       "      <td>1</td>\n",
       "      <td>101</td>\n",
       "      <td>197</td>\n",
       "      <td>1</td>\n",
       "      <td>156</td>\n",
       "      <td>1</td>\n",
       "    </tr>\n",
       "    <tr>\n",
       "      <th>12</th>\n",
       "      <td>48</td>\n",
       "      <td>1</td>\n",
       "      <td>2</td>\n",
       "      <td>124</td>\n",
       "      <td>255</td>\n",
       "      <td>1</td>\n",
       "      <td>175</td>\n",
       "      <td>1</td>\n",
       "    </tr>\n",
       "    <tr>\n",
       "      <th>13</th>\n",
       "      <td>53</td>\n",
       "      <td>1</td>\n",
       "      <td>2</td>\n",
       "      <td>130</td>\n",
       "      <td>246</td>\n",
       "      <td>0</td>\n",
       "      <td>173</td>\n",
       "      <td>1</td>\n",
       "    </tr>\n",
       "    <tr>\n",
       "      <th>14</th>\n",
       "      <td>69</td>\n",
       "      <td>1</td>\n",
       "      <td>3</td>\n",
       "      <td>160</td>\n",
       "      <td>234</td>\n",
       "      <td>0</td>\n",
       "      <td>131</td>\n",
       "      <td>1</td>\n",
       "    </tr>\n",
       "    <tr>\n",
       "      <th>15</th>\n",
       "      <td>50</td>\n",
       "      <td>0</td>\n",
       "      <td>1</td>\n",
       "      <td>120</td>\n",
       "      <td>244</td>\n",
       "      <td>1</td>\n",
       "      <td>162</td>\n",
       "      <td>1</td>\n",
       "    </tr>\n",
       "    <tr>\n",
       "      <th>16</th>\n",
       "      <td>50</td>\n",
       "      <td>0</td>\n",
       "      <td>0</td>\n",
       "      <td>110</td>\n",
       "      <td>254</td>\n",
       "      <td>0</td>\n",
       "      <td>159</td>\n",
       "      <td>1</td>\n",
       "    </tr>\n",
       "    <tr>\n",
       "      <th>17</th>\n",
       "      <td>59</td>\n",
       "      <td>1</td>\n",
       "      <td>0</td>\n",
       "      <td>138</td>\n",
       "      <td>271</td>\n",
       "      <td>0</td>\n",
       "      <td>182</td>\n",
       "      <td>1</td>\n",
       "    </tr>\n",
       "    <tr>\n",
       "      <th>18</th>\n",
       "      <td>47</td>\n",
       "      <td>1</td>\n",
       "      <td>0</td>\n",
       "      <td>112</td>\n",
       "      <td>204</td>\n",
       "      <td>1</td>\n",
       "      <td>143</td>\n",
       "      <td>1</td>\n",
       "    </tr>\n",
       "    <tr>\n",
       "      <th>19</th>\n",
       "      <td>58</td>\n",
       "      <td>1</td>\n",
       "      <td>1</td>\n",
       "      <td>120</td>\n",
       "      <td>284</td>\n",
       "      <td>0</td>\n",
       "      <td>160</td>\n",
       "      <td>0</td>\n",
       "    </tr>\n",
       "    <tr>\n",
       "      <th>20</th>\n",
       "      <td>61</td>\n",
       "      <td>0</td>\n",
       "      <td>0</td>\n",
       "      <td>130</td>\n",
       "      <td>330</td>\n",
       "      <td>0</td>\n",
       "      <td>169</td>\n",
       "      <td>0</td>\n",
       "    </tr>\n",
       "    <tr>\n",
       "      <th>21</th>\n",
       "      <td>62</td>\n",
       "      <td>0</td>\n",
       "      <td>0</td>\n",
       "      <td>160</td>\n",
       "      <td>164</td>\n",
       "      <td>0</td>\n",
       "      <td>145</td>\n",
       "      <td>0</td>\n",
       "    </tr>\n",
       "    <tr>\n",
       "      <th>22</th>\n",
       "      <td>59</td>\n",
       "      <td>1</td>\n",
       "      <td>0</td>\n",
       "      <td>140</td>\n",
       "      <td>177</td>\n",
       "      <td>1</td>\n",
       "      <td>162</td>\n",
       "      <td>0</td>\n",
       "    </tr>\n",
       "    <tr>\n",
       "      <th>23</th>\n",
       "      <td>48</td>\n",
       "      <td>1</td>\n",
       "      <td>0</td>\n",
       "      <td>130</td>\n",
       "      <td>256</td>\n",
       "      <td>0</td>\n",
       "      <td>150</td>\n",
       "      <td>0</td>\n",
       "    </tr>\n",
       "    <tr>\n",
       "      <th>24</th>\n",
       "      <td>55</td>\n",
       "      <td>1</td>\n",
       "      <td>0</td>\n",
       "      <td>140</td>\n",
       "      <td>217</td>\n",
       "      <td>1</td>\n",
       "      <td>111</td>\n",
       "      <td>0</td>\n",
       "    </tr>\n",
       "    <tr>\n",
       "      <th>25</th>\n",
       "      <td>51</td>\n",
       "      <td>1</td>\n",
       "      <td>0</td>\n",
       "      <td>140</td>\n",
       "      <td>298</td>\n",
       "      <td>1</td>\n",
       "      <td>122</td>\n",
       "      <td>0</td>\n",
       "    </tr>\n",
       "    <tr>\n",
       "      <th>26</th>\n",
       "      <td>67</td>\n",
       "      <td>1</td>\n",
       "      <td>0</td>\n",
       "      <td>100</td>\n",
       "      <td>299</td>\n",
       "      <td>0</td>\n",
       "      <td>125</td>\n",
       "      <td>0</td>\n",
       "    </tr>\n",
       "    <tr>\n",
       "      <th>27</th>\n",
       "      <td>45</td>\n",
       "      <td>1</td>\n",
       "      <td>0</td>\n",
       "      <td>142</td>\n",
       "      <td>309</td>\n",
       "      <td>0</td>\n",
       "      <td>147</td>\n",
       "      <td>0</td>\n",
       "    </tr>\n",
       "    <tr>\n",
       "      <th>28</th>\n",
       "      <td>47</td>\n",
       "      <td>1</td>\n",
       "      <td>0</td>\n",
       "      <td>110</td>\n",
       "      <td>275</td>\n",
       "      <td>0</td>\n",
       "      <td>118</td>\n",
       "      <td>0</td>\n",
       "    </tr>\n",
       "    <tr>\n",
       "      <th>29</th>\n",
       "      <td>57</td>\n",
       "      <td>1</td>\n",
       "      <td>0</td>\n",
       "      <td>130</td>\n",
       "      <td>131</td>\n",
       "      <td>1</td>\n",
       "      <td>115</td>\n",
       "      <td>0</td>\n",
       "    </tr>\n",
       "  </tbody>\n",
       "</table>\n",
       "</div>\n",
       "    <div class=\"colab-df-buttons\">\n",
       "\n",
       "  <div class=\"colab-df-container\">\n",
       "    <button class=\"colab-df-convert\" onclick=\"convertToInteractive('df-0d0ef175-1240-418b-9665-5a00b8767610')\"\n",
       "            title=\"Convert this dataframe to an interactive table.\"\n",
       "            style=\"display:none;\">\n",
       "\n",
       "  <svg xmlns=\"http://www.w3.org/2000/svg\" height=\"24px\" viewBox=\"0 -960 960 960\">\n",
       "    <path d=\"M120-120v-720h720v720H120Zm60-500h600v-160H180v160Zm220 220h160v-160H400v160Zm0 220h160v-160H400v160ZM180-400h160v-160H180v160Zm440 0h160v-160H620v160ZM180-180h160v-160H180v160Zm440 0h160v-160H620v160Z\"/>\n",
       "  </svg>\n",
       "    </button>\n",
       "\n",
       "  <style>\n",
       "    .colab-df-container {\n",
       "      display:flex;\n",
       "      gap: 12px;\n",
       "    }\n",
       "\n",
       "    .colab-df-convert {\n",
       "      background-color: #E8F0FE;\n",
       "      border: none;\n",
       "      border-radius: 50%;\n",
       "      cursor: pointer;\n",
       "      display: none;\n",
       "      fill: #1967D2;\n",
       "      height: 32px;\n",
       "      padding: 0 0 0 0;\n",
       "      width: 32px;\n",
       "    }\n",
       "\n",
       "    .colab-df-convert:hover {\n",
       "      background-color: #E2EBFA;\n",
       "      box-shadow: 0px 1px 2px rgba(60, 64, 67, 0.3), 0px 1px 3px 1px rgba(60, 64, 67, 0.15);\n",
       "      fill: #174EA6;\n",
       "    }\n",
       "\n",
       "    .colab-df-buttons div {\n",
       "      margin-bottom: 4px;\n",
       "    }\n",
       "\n",
       "    [theme=dark] .colab-df-convert {\n",
       "      background-color: #3B4455;\n",
       "      fill: #D2E3FC;\n",
       "    }\n",
       "\n",
       "    [theme=dark] .colab-df-convert:hover {\n",
       "      background-color: #434B5C;\n",
       "      box-shadow: 0px 1px 3px 1px rgba(0, 0, 0, 0.15);\n",
       "      filter: drop-shadow(0px 1px 2px rgba(0, 0, 0, 0.3));\n",
       "      fill: #FFFFFF;\n",
       "    }\n",
       "  </style>\n",
       "\n",
       "    <script>\n",
       "      const buttonEl =\n",
       "        document.querySelector('#df-0d0ef175-1240-418b-9665-5a00b8767610 button.colab-df-convert');\n",
       "      buttonEl.style.display =\n",
       "        google.colab.kernel.accessAllowed ? 'block' : 'none';\n",
       "\n",
       "      async function convertToInteractive(key) {\n",
       "        const element = document.querySelector('#df-0d0ef175-1240-418b-9665-5a00b8767610');\n",
       "        const dataTable =\n",
       "          await google.colab.kernel.invokeFunction('convertToInteractive',\n",
       "                                                    [key], {});\n",
       "        if (!dataTable) return;\n",
       "\n",
       "        const docLinkHtml = 'Like what you see? Visit the ' +\n",
       "          '<a target=\"_blank\" href=https://colab.research.google.com/notebooks/data_table.ipynb>data table notebook</a>'\n",
       "          + ' to learn more about interactive tables.';\n",
       "        element.innerHTML = '';\n",
       "        dataTable['output_type'] = 'display_data';\n",
       "        await google.colab.output.renderOutput(dataTable, element);\n",
       "        const docLink = document.createElement('div');\n",
       "        docLink.innerHTML = docLinkHtml;\n",
       "        element.appendChild(docLink);\n",
       "      }\n",
       "    </script>\n",
       "  </div>\n",
       "\n",
       "\n",
       "<div id=\"df-3ae50ed4-f625-4d5a-a04c-f97808b9e9c6\">\n",
       "  <button class=\"colab-df-quickchart\" onclick=\"quickchart('df-3ae50ed4-f625-4d5a-a04c-f97808b9e9c6')\"\n",
       "            title=\"Suggest charts\"\n",
       "            style=\"display:none;\">\n",
       "\n",
       "<svg xmlns=\"http://www.w3.org/2000/svg\" height=\"24px\"viewBox=\"0 0 24 24\"\n",
       "     width=\"24px\">\n",
       "    <g>\n",
       "        <path d=\"M19 3H5c-1.1 0-2 .9-2 2v14c0 1.1.9 2 2 2h14c1.1 0 2-.9 2-2V5c0-1.1-.9-2-2-2zM9 17H7v-7h2v7zm4 0h-2V7h2v10zm4 0h-2v-4h2v4z\"/>\n",
       "    </g>\n",
       "</svg>\n",
       "  </button>\n",
       "\n",
       "<style>\n",
       "  .colab-df-quickchart {\n",
       "      --bg-color: #E8F0FE;\n",
       "      --fill-color: #1967D2;\n",
       "      --hover-bg-color: #E2EBFA;\n",
       "      --hover-fill-color: #174EA6;\n",
       "      --disabled-fill-color: #AAA;\n",
       "      --disabled-bg-color: #DDD;\n",
       "  }\n",
       "\n",
       "  [theme=dark] .colab-df-quickchart {\n",
       "      --bg-color: #3B4455;\n",
       "      --fill-color: #D2E3FC;\n",
       "      --hover-bg-color: #434B5C;\n",
       "      --hover-fill-color: #FFFFFF;\n",
       "      --disabled-bg-color: #3B4455;\n",
       "      --disabled-fill-color: #666;\n",
       "  }\n",
       "\n",
       "  .colab-df-quickchart {\n",
       "    background-color: var(--bg-color);\n",
       "    border: none;\n",
       "    border-radius: 50%;\n",
       "    cursor: pointer;\n",
       "    display: none;\n",
       "    fill: var(--fill-color);\n",
       "    height: 32px;\n",
       "    padding: 0;\n",
       "    width: 32px;\n",
       "  }\n",
       "\n",
       "  .colab-df-quickchart:hover {\n",
       "    background-color: var(--hover-bg-color);\n",
       "    box-shadow: 0 1px 2px rgba(60, 64, 67, 0.3), 0 1px 3px 1px rgba(60, 64, 67, 0.15);\n",
       "    fill: var(--button-hover-fill-color);\n",
       "  }\n",
       "\n",
       "  .colab-df-quickchart-complete:disabled,\n",
       "  .colab-df-quickchart-complete:disabled:hover {\n",
       "    background-color: var(--disabled-bg-color);\n",
       "    fill: var(--disabled-fill-color);\n",
       "    box-shadow: none;\n",
       "  }\n",
       "\n",
       "  .colab-df-spinner {\n",
       "    border: 2px solid var(--fill-color);\n",
       "    border-color: transparent;\n",
       "    border-bottom-color: var(--fill-color);\n",
       "    animation:\n",
       "      spin 1s steps(1) infinite;\n",
       "  }\n",
       "\n",
       "  @keyframes spin {\n",
       "    0% {\n",
       "      border-color: transparent;\n",
       "      border-bottom-color: var(--fill-color);\n",
       "      border-left-color: var(--fill-color);\n",
       "    }\n",
       "    20% {\n",
       "      border-color: transparent;\n",
       "      border-left-color: var(--fill-color);\n",
       "      border-top-color: var(--fill-color);\n",
       "    }\n",
       "    30% {\n",
       "      border-color: transparent;\n",
       "      border-left-color: var(--fill-color);\n",
       "      border-top-color: var(--fill-color);\n",
       "      border-right-color: var(--fill-color);\n",
       "    }\n",
       "    40% {\n",
       "      border-color: transparent;\n",
       "      border-right-color: var(--fill-color);\n",
       "      border-top-color: var(--fill-color);\n",
       "    }\n",
       "    60% {\n",
       "      border-color: transparent;\n",
       "      border-right-color: var(--fill-color);\n",
       "    }\n",
       "    80% {\n",
       "      border-color: transparent;\n",
       "      border-right-color: var(--fill-color);\n",
       "      border-bottom-color: var(--fill-color);\n",
       "    }\n",
       "    90% {\n",
       "      border-color: transparent;\n",
       "      border-bottom-color: var(--fill-color);\n",
       "    }\n",
       "  }\n",
       "</style>\n",
       "\n",
       "  <script>\n",
       "    async function quickchart(key) {\n",
       "      const quickchartButtonEl =\n",
       "        document.querySelector('#' + key + ' button');\n",
       "      quickchartButtonEl.disabled = true;  // To prevent multiple clicks.\n",
       "      quickchartButtonEl.classList.add('colab-df-spinner');\n",
       "      try {\n",
       "        const charts = await google.colab.kernel.invokeFunction(\n",
       "            'suggestCharts', [key], {});\n",
       "      } catch (error) {\n",
       "        console.error('Error during call to suggestCharts:', error);\n",
       "      }\n",
       "      quickchartButtonEl.classList.remove('colab-df-spinner');\n",
       "      quickchartButtonEl.classList.add('colab-df-quickchart-complete');\n",
       "    }\n",
       "    (() => {\n",
       "      let quickchartButtonEl =\n",
       "        document.querySelector('#df-3ae50ed4-f625-4d5a-a04c-f97808b9e9c6 button');\n",
       "      quickchartButtonEl.style.display =\n",
       "        google.colab.kernel.accessAllowed ? 'block' : 'none';\n",
       "    })();\n",
       "  </script>\n",
       "</div>\n",
       "    </div>\n",
       "  </div>\n"
      ],
      "text/plain": [
       "    age  sex  cp  trtbps  chol  restecg  thalach  output\n",
       "0    41    0   1     130   204        0      172       1\n",
       "1    64    1   3     110   211        0      144       1\n",
       "2    59    1   0     135   234        1      161       1\n",
       "3    42    1   0     140   226        1      178       1\n",
       "4    40    1   3     140   199        1      178       1\n",
       "5    54    1   2     125   273        0      152       1\n",
       "6    52    1   1     134   201        1      158       1\n",
       "7    71    0   2     110   265        0      130       1\n",
       "8    55    0   1     135   250        0      161       1\n",
       "9    58    1   2     105   240        0      154       1\n",
       "10   68    1   2     118   277        1      151       1\n",
       "11   46    1   1     101   197        1      156       1\n",
       "12   48    1   2     124   255        1      175       1\n",
       "13   53    1   2     130   246        0      173       1\n",
       "14   69    1   3     160   234        0      131       1\n",
       "15   50    0   1     120   244        1      162       1\n",
       "16   50    0   0     110   254        0      159       1\n",
       "17   59    1   0     138   271        0      182       1\n",
       "18   47    1   0     112   204        1      143       1\n",
       "19   58    1   1     120   284        0      160       0\n",
       "20   61    0   0     130   330        0      169       0\n",
       "21   62    0   0     160   164        0      145       0\n",
       "22   59    1   0     140   177        1      162       0\n",
       "23   48    1   0     130   256        0      150       0\n",
       "24   55    1   0     140   217        1      111       0\n",
       "25   51    1   0     140   298        1      122       0\n",
       "26   67    1   0     100   299        0      125       0\n",
       "27   45    1   0     142   309        0      147       0\n",
       "28   47    1   0     110   275        0      118       0\n",
       "29   57    1   0     130   131        1      115       0"
      ]
     },
     "execution_count": 121,
     "metadata": {},
     "output_type": "execute_result"
    }
   ],
   "source": [
    "heart_attack_val = pd.read_csv(\"https://www.dropbox.com/s/jkwqdiyx6o6oad0/heart_attack_validation.csv?dl=1\")\n",
    "heart_attack_val"
   ]
  },
  {
   "cell_type": "code",
   "execution_count": 122,
   "metadata": {
    "colab": {
     "base_uri": "https://localhost:8080/"
    },
    "id": "MYiiSVPAJQgj",
    "outputId": "04121e68-974c-4658-9503-53213d568db1"
   },
   "outputs": [
    {
     "name": "stdout",
     "output_type": "stream",
     "text": [
      "Missing values in dataset:\n",
      " age        0\n",
      "sex        0\n",
      "cp         0\n",
      "trtbps     0\n",
      "chol       0\n",
      "restecg    0\n",
      "thalach    0\n",
      "output     0\n",
      "dtype: int64\n",
      "\n",
      "Data types:\n",
      " age        int64\n",
      "sex        int64\n",
      "cp         int64\n",
      "trtbps     int64\n",
      "chol       int64\n",
      "restecg    int64\n",
      "thalach    int64\n",
      "output     int64\n",
      "dtype: object\n"
     ]
    }
   ],
   "source": [
    "print(\"Missing values in dataset:\\n\", heart_attack_val.isnull().sum())\n",
    "\n",
    "print(\"\\nData types:\\n\", heart_attack_val.dtypes)\n",
    "\n",
    "X_val = heart_attack_val.drop(\"output\", axis=1)\n",
    "\n",
    "y_val = heart_attack_val[\"output\"]"
   ]
  },
  {
   "cell_type": "markdown",
   "metadata": {
    "id": "Rwl1ocalbs5u"
   },
   "source": [
    "Use each of your final models in Part One Q1-3, predict the target variable in the validation dataset."
   ]
  },
  {
   "cell_type": "code",
   "execution_count": 129,
   "metadata": {
    "id": "c-c5ZzDc0Yzv"
   },
   "outputs": [],
   "source": [
    "y_pred_knn_val = best_knn.predict(X_val)\n",
    "\n",
    "y_pred_logreg_val = best_logreg.predict(X_val)\n",
    "\n",
    "y_pred_dtree_val = best_dtree.predict(X_val)"
   ]
  },
  {
   "cell_type": "markdown",
   "metadata": {
    "id": "ifEDYNMz0dLY"
   },
   "source": [
    "Compare these values to the cross-validated estimates you reported in Part One and Part Two. Did our measure of model success turn out to be approximately correct for the validation data?"
   ]
  },
  {
   "cell_type": "code",
   "execution_count": 124,
   "metadata": {
    "id": "wEXQ53yu7KnZ"
   },
   "outputs": [],
   "source": [
    "roc_auc_knn_val = roc_auc_score(y_val, y_pred_knn_val)\n",
    "precision_knn_val = precision_score(y_val, y_pred_knn_val)\n",
    "recall_knn_val = recall_score(y_val, y_pred_knn_val)\n",
    "conf_matrix_knn_val = confusion_matrix(y_val, y_pred_knn_val)\n",
    "\n",
    "roc_auc_logreg_val = roc_auc_score(y_val, y_pred_logreg_val)\n",
    "precision_logreg_val = precision_score(y_val, y_pred_logreg_val)\n",
    "recall_logreg_val = recall_score(y_val, y_pred_logreg_val)\n",
    "conf_matrix_logreg_val = confusion_matrix(y_val, y_pred_logreg_val)\n",
    "\n",
    "roc_auc_dtree_val = roc_auc_score(y_val, y_pred_dtree_val)\n",
    "precision_dtree_val = precision_score(y_val, y_pred_dtree_val)\n",
    "recall_dtree_val = recall_score(y_val, y_pred_dtree_val)\n",
    "conf_matrix_dtree_val = confusion_matrix(y_val, y_pred_dtree_val)"
   ]
  },
  {
   "cell_type": "markdown",
   "metadata": {
    "id": "BCQQWcLn0ZsP"
   },
   "source": [
    "\n",
    "For each, output a confusion matrix, and report the ROC AUC, the precision, and the recall."
   ]
  },
  {
   "cell_type": "code",
   "execution_count": 125,
   "metadata": {
    "colab": {
     "base_uri": "https://localhost:8080/"
    },
    "id": "ESQ_ZorFyRSL",
    "outputId": "42dfdc98-affd-45db-fe2b-8b7b26051bf3"
   },
   "outputs": [
    {
     "name": "stdout",
     "output_type": "stream",
     "text": [
      "KNN Model - ROC AUC: 0.6411483253588517 Precision: 0.7368421052631579 Recall: 0.7368421052631579 Confusion Matrix:\n",
      " [[ 6  5]\n",
      " [ 5 14]]\n",
      "Logistic Regression Model - ROC AUC: 0.777511961722488 Precision: 0.875 Recall: 0.7368421052631579 Confusion Matrix:\n",
      " [[ 9  2]\n",
      " [ 5 14]]\n",
      "Decision Tree Model - ROC AUC: 0.7057416267942583 Precision: 0.8125 Recall: 0.6842105263157895 Confusion Matrix:\n",
      " [[ 8  3]\n",
      " [ 6 13]]\n"
     ]
    }
   ],
   "source": [
    "print(\"KNN Model - ROC AUC:\", roc_auc_knn_val, \"Precision:\", precision_knn_val, \"Recall:\", recall_knn_val, \"Confusion Matrix:\\n\", conf_matrix_knn_val)\n",
    "\n",
    "print(\"Logistic Regression Model - ROC AUC:\", roc_auc_logreg_val, \"Precision:\", precision_logreg_val, \"Recall:\", recall_logreg_val, \"Confusion Matrix:\\n\", conf_matrix_logreg_val)\n",
    "\n",
    "print(\"Decision Tree Model - ROC AUC:\", roc_auc_dtree_val, \"Precision:\", precision_dtree_val, \"Recall:\", recall_dtree_val, \"Confusion Matrix:\\n\", conf_matrix_dtree_val)\n"
   ]
  },
  {
   "cell_type": "markdown",
   "metadata": {
    "id": "_5tzRJPfcH21"
   },
   "source": [
    "Part Five: Cohen’s Kappa\n",
    "Another common metric used in classification is Cohen’s Kappa.\n",
    "\n",
    "Use online resources to research this measurement. Calculate it for the models from Part One, Q1-3, and discuss reasons or scenarios that would make us prefer to use this metric as our measure of model success. Do your conclusions from above change if you judge your models using Cohen’s Kappa instead? Does this make sense?"
   ]
  },
  {
   "cell_type": "code",
   "execution_count": 126,
   "metadata": {
    "colab": {
     "base_uri": "https://localhost:8080/"
    },
    "id": "isZw94_HDCUk",
    "outputId": "ae1a06d5-5f49-4dbb-9784-ec3681d18b58"
   },
   "outputs": [
    {
     "name": "stdout",
     "output_type": "stream",
     "text": [
      "KNN Model - Cohen's Kappa: 0.017207147584381244\n"
     ]
    }
   ],
   "source": [
    "y_pred_knn = best_knn.predict(X_test)\n",
    "\n",
    "kappa_knn = cohen_kappa_score(y_test, y_pred_knn)\n",
    "\n",
    "print(f\"KNN Model - Cohen's Kappa: {kappa_knn}\")"
   ]
  },
  {
   "cell_type": "code",
   "execution_count": 127,
   "metadata": {
    "colab": {
     "base_uri": "https://localhost:8080/"
    },
    "id": "jTDBUpmSDDlU",
    "outputId": "17cb647d-e78a-4408-cd73-192695fa36ba"
   },
   "outputs": [
    {
     "name": "stdout",
     "output_type": "stream",
     "text": [
      "Logistic Regression Model - Cohen's Kappa: 0.2819843342036553\n"
     ]
    }
   ],
   "source": [
    "y_pred_logreg = best_logreg.predict(X_test)\n",
    "\n",
    "kappa_logreg = cohen_kappa_score(y_test, y_pred_logreg)\n",
    "\n",
    "print(f\"Logistic Regression Model - Cohen's Kappa: {kappa_logreg}\")"
   ]
  },
  {
   "cell_type": "code",
   "execution_count": 128,
   "metadata": {
    "colab": {
     "base_uri": "https://localhost:8080/"
    },
    "id": "6u8GIR9gDHGX",
    "outputId": "b8b186b7-bd5f-406f-c685-d0f62e1de359"
   },
   "outputs": [
    {
     "name": "stdout",
     "output_type": "stream",
     "text": [
      "Decision Tree Model - Cohen's Kappa: 0.27344782034346105\n"
     ]
    }
   ],
   "source": [
    "y_pred_dtree = best_dtree.predict(X_test)\n",
    "\n",
    "kappa_dtree = cohen_kappa_score(y_test, y_pred_dtree)\n",
    "\n",
    "print(f\"Decision Tree Model - Cohen's Kappa: {kappa_dtree}\")"
   ]
  },
  {
   "cell_type": "markdown",
   "metadata": {
    "id": "lZiYCh2lElNe"
   },
   "source": [
    "When assessing classification models, Cohen's Kappa is a useful indicator, especially when the distribution of the classes is unbalanced. By correcting for the imbalance and taking the risk of chance agreement into consideration, it provides a more sophisticated evaluation of a model's performance. This gives it additional value when comparing models that could have comparable accuracy results as it offers a more thorough understanding of the consistency and dependability of the categorization. Cohen's Kappa is a robust indicator of model performance; a higher value denotes a more trustworthy categorization by the model. It's crucial to compare the Cohen's Kappa values of each model when evaluating these scores since a higher number denotes a more reliable and agreeable model.\n",
    "\n",
    "Furthermore, if the Cohen's Kappa values differ noticeably from other measures like ROC AUC, precision, or recall, this may indicate that the class distribution has a greater impact on the models' accuracy than their capacity to classify examples properly. Conducting these tests within a Python environment yields a thorough analysis, facilitating better decision-making for model choice and functionality.\n"
   ]
  }
 ],
 "metadata": {
  "colab": {
   "provenance": []
  },
  "kernelspec": {
   "display_name": "Python 3 (ipykernel)",
   "language": "python",
   "name": "python3"
  },
  "language_info": {
   "codemirror_mode": {
    "name": "ipython",
    "version": 3
   },
   "file_extension": ".py",
   "mimetype": "text/x-python",
   "name": "python",
   "nbconvert_exporter": "python",
   "pygments_lexer": "ipython3",
   "version": "3.11.4"
  }
 },
 "nbformat": 4,
 "nbformat_minor": 1
}
