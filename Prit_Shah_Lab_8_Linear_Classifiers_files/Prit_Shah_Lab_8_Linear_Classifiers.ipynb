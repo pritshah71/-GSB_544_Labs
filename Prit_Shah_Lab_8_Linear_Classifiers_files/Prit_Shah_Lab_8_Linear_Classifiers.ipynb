{
 "cells": [
  {
   "cell_type": "raw",
   "metadata": {},
   "source": [
    "---\n",
    "self-contained: true\n",
    "title: \"Lab 8: Linear Classifiers\"\n",
    "author : \"Prit shah\"\n",
    "date : \"12/5/2023\"\n",
    "date-format: long\n",
    "format :\n",
    "    html:\n",
    "        mainfront: sans-serif;\n",
    "---"
   ]
  },
  {
   "cell_type": "code",
   "execution_count": 2,
   "metadata": {
    "id": "EH2WwjtsNtbH"
   },
   "outputs": [],
   "source": [
    "import pandas as pd\n",
    "from sklearn.model_selection import train_test_split\n",
    "from sklearn.preprocessing import StandardScaler\n",
    "from sklearn.metrics import classification_report, confusion_matrix\n",
    "from sklearn.model_selection import GridSearchCV, cross_val_score\n",
    "from sklearn.discriminant_analysis import LinearDiscriminantAnalysis, QuadraticDiscriminantAnalysis\n",
    "from sklearn.svm import SVC\n",
    "from sklearn.pipeline import Pipeline\n",
    "from sklearn.tree import DecisionTreeClassifier\n",
    "from sklearn import tree\n",
    "import matplotlib.pyplot as plt\n",
    "from sklearn.neighbors import KNeighborsClassifier\n",
    "from sklearn.linear_model import LogisticRegression"
   ]
  },
  {
   "cell_type": "code",
   "execution_count": 52,
   "metadata": {
    "colab": {
     "base_uri": "https://localhost:8080/",
     "height": 583
    },
    "id": "KMefaK5qEFI8",
    "outputId": "b2e0122a-d7c6-4511-98e4-19cbe7da856e"
   },
   "outputs": [
    {
     "data": {
      "text/html": [
       "\n",
       "  <div id=\"df-5568e614-ef2b-455a-95a9-f3f87e8b1196\" class=\"colab-df-container\">\n",
       "    <div>\n",
       "<style scoped>\n",
       "    .dataframe tbody tr th:only-of-type {\n",
       "        vertical-align: middle;\n",
       "    }\n",
       "\n",
       "    .dataframe tbody tr th {\n",
       "        vertical-align: top;\n",
       "    }\n",
       "\n",
       "    .dataframe thead th {\n",
       "        text-align: right;\n",
       "    }\n",
       "</style>\n",
       "<table border=\"1\" class=\"dataframe\">\n",
       "  <thead>\n",
       "    <tr style=\"text-align: right;\">\n",
       "      <th></th>\n",
       "      <th>Strain</th>\n",
       "      <th>Type</th>\n",
       "      <th>Rating</th>\n",
       "      <th>Effects</th>\n",
       "      <th>Flavor</th>\n",
       "      <th>Creative</th>\n",
       "      <th>Energetic</th>\n",
       "      <th>Tingly</th>\n",
       "      <th>Euphoric</th>\n",
       "      <th>Relaxed</th>\n",
       "      <th>...</th>\n",
       "      <th>Ammonia</th>\n",
       "      <th>Minty</th>\n",
       "      <th>Tree</th>\n",
       "      <th>Fruit</th>\n",
       "      <th>Butter</th>\n",
       "      <th>Pineapple</th>\n",
       "      <th>Tar</th>\n",
       "      <th>Rose</th>\n",
       "      <th>Plum</th>\n",
       "      <th>Pear</th>\n",
       "    </tr>\n",
       "  </thead>\n",
       "  <tbody>\n",
       "    <tr>\n",
       "      <th>0</th>\n",
       "      <td>100-Og</td>\n",
       "      <td>hybrid</td>\n",
       "      <td>4.0</td>\n",
       "      <td>Creative,Energetic,Tingly,Euphoric,Relaxed</td>\n",
       "      <td>Earthy,Sweet,Citrus</td>\n",
       "      <td>1.0</td>\n",
       "      <td>1.0</td>\n",
       "      <td>1.0</td>\n",
       "      <td>1.0</td>\n",
       "      <td>1.0</td>\n",
       "      <td>...</td>\n",
       "      <td>0.0</td>\n",
       "      <td>0.0</td>\n",
       "      <td>0.0</td>\n",
       "      <td>0.0</td>\n",
       "      <td>0.0</td>\n",
       "      <td>0.0</td>\n",
       "      <td>0.0</td>\n",
       "      <td>0.0</td>\n",
       "      <td>0.0</td>\n",
       "      <td>0.0</td>\n",
       "    </tr>\n",
       "    <tr>\n",
       "      <th>1</th>\n",
       "      <td>98-White-Widow</td>\n",
       "      <td>hybrid</td>\n",
       "      <td>4.7</td>\n",
       "      <td>Relaxed,Aroused,Creative,Happy,Energetic</td>\n",
       "      <td>Flowery,Violet,Diesel</td>\n",
       "      <td>1.0</td>\n",
       "      <td>1.0</td>\n",
       "      <td>0.0</td>\n",
       "      <td>0.0</td>\n",
       "      <td>1.0</td>\n",
       "      <td>...</td>\n",
       "      <td>0.0</td>\n",
       "      <td>0.0</td>\n",
       "      <td>0.0</td>\n",
       "      <td>0.0</td>\n",
       "      <td>0.0</td>\n",
       "      <td>0.0</td>\n",
       "      <td>0.0</td>\n",
       "      <td>0.0</td>\n",
       "      <td>0.0</td>\n",
       "      <td>0.0</td>\n",
       "    </tr>\n",
       "    <tr>\n",
       "      <th>2</th>\n",
       "      <td>1024</td>\n",
       "      <td>sativa</td>\n",
       "      <td>4.4</td>\n",
       "      <td>Uplifted,Happy,Relaxed,Energetic,Creative</td>\n",
       "      <td>Spicy/Herbal,Sage,Woody</td>\n",
       "      <td>1.0</td>\n",
       "      <td>1.0</td>\n",
       "      <td>0.0</td>\n",
       "      <td>0.0</td>\n",
       "      <td>1.0</td>\n",
       "      <td>...</td>\n",
       "      <td>0.0</td>\n",
       "      <td>0.0</td>\n",
       "      <td>0.0</td>\n",
       "      <td>0.0</td>\n",
       "      <td>0.0</td>\n",
       "      <td>0.0</td>\n",
       "      <td>0.0</td>\n",
       "      <td>0.0</td>\n",
       "      <td>0.0</td>\n",
       "      <td>0.0</td>\n",
       "    </tr>\n",
       "    <tr>\n",
       "      <th>3</th>\n",
       "      <td>13-Dawgs</td>\n",
       "      <td>hybrid</td>\n",
       "      <td>4.2</td>\n",
       "      <td>Tingly,Creative,Hungry,Relaxed,Uplifted</td>\n",
       "      <td>Apricot,Citrus,Grapefruit</td>\n",
       "      <td>1.0</td>\n",
       "      <td>0.0</td>\n",
       "      <td>1.0</td>\n",
       "      <td>0.0</td>\n",
       "      <td>1.0</td>\n",
       "      <td>...</td>\n",
       "      <td>0.0</td>\n",
       "      <td>0.0</td>\n",
       "      <td>0.0</td>\n",
       "      <td>0.0</td>\n",
       "      <td>0.0</td>\n",
       "      <td>0.0</td>\n",
       "      <td>0.0</td>\n",
       "      <td>0.0</td>\n",
       "      <td>0.0</td>\n",
       "      <td>0.0</td>\n",
       "    </tr>\n",
       "    <tr>\n",
       "      <th>4</th>\n",
       "      <td>24K-Gold</td>\n",
       "      <td>hybrid</td>\n",
       "      <td>4.6</td>\n",
       "      <td>Happy,Relaxed,Euphoric,Uplifted,Talkative</td>\n",
       "      <td>Citrus,Earthy,Orange</td>\n",
       "      <td>0.0</td>\n",
       "      <td>0.0</td>\n",
       "      <td>0.0</td>\n",
       "      <td>1.0</td>\n",
       "      <td>1.0</td>\n",
       "      <td>...</td>\n",
       "      <td>0.0</td>\n",
       "      <td>0.0</td>\n",
       "      <td>0.0</td>\n",
       "      <td>0.0</td>\n",
       "      <td>0.0</td>\n",
       "      <td>0.0</td>\n",
       "      <td>0.0</td>\n",
       "      <td>0.0</td>\n",
       "      <td>0.0</td>\n",
       "      <td>0.0</td>\n",
       "    </tr>\n",
       "    <tr>\n",
       "      <th>...</th>\n",
       "      <td>...</td>\n",
       "      <td>...</td>\n",
       "      <td>...</td>\n",
       "      <td>...</td>\n",
       "      <td>...</td>\n",
       "      <td>...</td>\n",
       "      <td>...</td>\n",
       "      <td>...</td>\n",
       "      <td>...</td>\n",
       "      <td>...</td>\n",
       "      <td>...</td>\n",
       "      <td>...</td>\n",
       "      <td>...</td>\n",
       "      <td>...</td>\n",
       "      <td>...</td>\n",
       "      <td>...</td>\n",
       "      <td>...</td>\n",
       "      <td>...</td>\n",
       "      <td>...</td>\n",
       "      <td>...</td>\n",
       "      <td>...</td>\n",
       "    </tr>\n",
       "    <tr>\n",
       "      <th>2346</th>\n",
       "      <td>Zeus-Og</td>\n",
       "      <td>hybrid</td>\n",
       "      <td>4.7</td>\n",
       "      <td>Happy,Uplifted,Relaxed,Euphoric,Energetic</td>\n",
       "      <td>Earthy,Woody,Pine</td>\n",
       "      <td>0.0</td>\n",
       "      <td>1.0</td>\n",
       "      <td>0.0</td>\n",
       "      <td>1.0</td>\n",
       "      <td>1.0</td>\n",
       "      <td>...</td>\n",
       "      <td>0.0</td>\n",
       "      <td>0.0</td>\n",
       "      <td>0.0</td>\n",
       "      <td>0.0</td>\n",
       "      <td>0.0</td>\n",
       "      <td>0.0</td>\n",
       "      <td>0.0</td>\n",
       "      <td>0.0</td>\n",
       "      <td>0.0</td>\n",
       "      <td>0.0</td>\n",
       "    </tr>\n",
       "    <tr>\n",
       "      <th>2347</th>\n",
       "      <td>Zkittlez</td>\n",
       "      <td>indica</td>\n",
       "      <td>4.6</td>\n",
       "      <td>Relaxed,Happy,Euphoric,Uplifted,Sleepy</td>\n",
       "      <td>Sweet,Berry,Grape</td>\n",
       "      <td>0.0</td>\n",
       "      <td>0.0</td>\n",
       "      <td>0.0</td>\n",
       "      <td>1.0</td>\n",
       "      <td>1.0</td>\n",
       "      <td>...</td>\n",
       "      <td>0.0</td>\n",
       "      <td>0.0</td>\n",
       "      <td>0.0</td>\n",
       "      <td>0.0</td>\n",
       "      <td>0.0</td>\n",
       "      <td>0.0</td>\n",
       "      <td>0.0</td>\n",
       "      <td>0.0</td>\n",
       "      <td>0.0</td>\n",
       "      <td>0.0</td>\n",
       "    </tr>\n",
       "    <tr>\n",
       "      <th>2348</th>\n",
       "      <td>Zombie-Kush</td>\n",
       "      <td>indica</td>\n",
       "      <td>5.0</td>\n",
       "      <td>Relaxed,Sleepy,Talkative,Euphoric,Happy</td>\n",
       "      <td>Earthy,Sweet,Spicy/Herbal</td>\n",
       "      <td>0.0</td>\n",
       "      <td>0.0</td>\n",
       "      <td>0.0</td>\n",
       "      <td>1.0</td>\n",
       "      <td>1.0</td>\n",
       "      <td>...</td>\n",
       "      <td>0.0</td>\n",
       "      <td>0.0</td>\n",
       "      <td>0.0</td>\n",
       "      <td>0.0</td>\n",
       "      <td>0.0</td>\n",
       "      <td>0.0</td>\n",
       "      <td>0.0</td>\n",
       "      <td>0.0</td>\n",
       "      <td>0.0</td>\n",
       "      <td>0.0</td>\n",
       "    </tr>\n",
       "    <tr>\n",
       "      <th>2349</th>\n",
       "      <td>Zombie-Og</td>\n",
       "      <td>indica</td>\n",
       "      <td>4.4</td>\n",
       "      <td>Relaxed,Sleepy,Euphoric,Happy,Hungry</td>\n",
       "      <td>Sweet,Earthy,Pungent</td>\n",
       "      <td>0.0</td>\n",
       "      <td>0.0</td>\n",
       "      <td>0.0</td>\n",
       "      <td>1.0</td>\n",
       "      <td>1.0</td>\n",
       "      <td>...</td>\n",
       "      <td>0.0</td>\n",
       "      <td>0.0</td>\n",
       "      <td>0.0</td>\n",
       "      <td>0.0</td>\n",
       "      <td>0.0</td>\n",
       "      <td>0.0</td>\n",
       "      <td>0.0</td>\n",
       "      <td>0.0</td>\n",
       "      <td>0.0</td>\n",
       "      <td>0.0</td>\n",
       "    </tr>\n",
       "    <tr>\n",
       "      <th>2350</th>\n",
       "      <td>Zoom-Pie</td>\n",
       "      <td>indica</td>\n",
       "      <td>4.6</td>\n",
       "      <td>Hungry,Relaxed,Uplifted,Happy,Sleepy</td>\n",
       "      <td>Berry,Earthy,Pungent</td>\n",
       "      <td>0.0</td>\n",
       "      <td>0.0</td>\n",
       "      <td>0.0</td>\n",
       "      <td>0.0</td>\n",
       "      <td>1.0</td>\n",
       "      <td>...</td>\n",
       "      <td>0.0</td>\n",
       "      <td>0.0</td>\n",
       "      <td>0.0</td>\n",
       "      <td>0.0</td>\n",
       "      <td>0.0</td>\n",
       "      <td>0.0</td>\n",
       "      <td>0.0</td>\n",
       "      <td>0.0</td>\n",
       "      <td>0.0</td>\n",
       "      <td>0.0</td>\n",
       "    </tr>\n",
       "  </tbody>\n",
       "</table>\n",
       "<p>2305 rows × 69 columns</p>\n",
       "</div>\n",
       "    <div class=\"colab-df-buttons\">\n",
       "\n",
       "  <div class=\"colab-df-container\">\n",
       "    <button class=\"colab-df-convert\" onclick=\"convertToInteractive('df-5568e614-ef2b-455a-95a9-f3f87e8b1196')\"\n",
       "            title=\"Convert this dataframe to an interactive table.\"\n",
       "            style=\"display:none;\">\n",
       "\n",
       "  <svg xmlns=\"http://www.w3.org/2000/svg\" height=\"24px\" viewBox=\"0 -960 960 960\">\n",
       "    <path d=\"M120-120v-720h720v720H120Zm60-500h600v-160H180v160Zm220 220h160v-160H400v160Zm0 220h160v-160H400v160ZM180-400h160v-160H180v160Zm440 0h160v-160H620v160ZM180-180h160v-160H180v160Zm440 0h160v-160H620v160Z\"/>\n",
       "  </svg>\n",
       "    </button>\n",
       "\n",
       "  <style>\n",
       "    .colab-df-container {\n",
       "      display:flex;\n",
       "      gap: 12px;\n",
       "    }\n",
       "\n",
       "    .colab-df-convert {\n",
       "      background-color: #E8F0FE;\n",
       "      border: none;\n",
       "      border-radius: 50%;\n",
       "      cursor: pointer;\n",
       "      display: none;\n",
       "      fill: #1967D2;\n",
       "      height: 32px;\n",
       "      padding: 0 0 0 0;\n",
       "      width: 32px;\n",
       "    }\n",
       "\n",
       "    .colab-df-convert:hover {\n",
       "      background-color: #E2EBFA;\n",
       "      box-shadow: 0px 1px 2px rgba(60, 64, 67, 0.3), 0px 1px 3px 1px rgba(60, 64, 67, 0.15);\n",
       "      fill: #174EA6;\n",
       "    }\n",
       "\n",
       "    .colab-df-buttons div {\n",
       "      margin-bottom: 4px;\n",
       "    }\n",
       "\n",
       "    [theme=dark] .colab-df-convert {\n",
       "      background-color: #3B4455;\n",
       "      fill: #D2E3FC;\n",
       "    }\n",
       "\n",
       "    [theme=dark] .colab-df-convert:hover {\n",
       "      background-color: #434B5C;\n",
       "      box-shadow: 0px 1px 3px 1px rgba(0, 0, 0, 0.15);\n",
       "      filter: drop-shadow(0px 1px 2px rgba(0, 0, 0, 0.3));\n",
       "      fill: #FFFFFF;\n",
       "    }\n",
       "  </style>\n",
       "\n",
       "    <script>\n",
       "      const buttonEl =\n",
       "        document.querySelector('#df-5568e614-ef2b-455a-95a9-f3f87e8b1196 button.colab-df-convert');\n",
       "      buttonEl.style.display =\n",
       "        google.colab.kernel.accessAllowed ? 'block' : 'none';\n",
       "\n",
       "      async function convertToInteractive(key) {\n",
       "        const element = document.querySelector('#df-5568e614-ef2b-455a-95a9-f3f87e8b1196');\n",
       "        const dataTable =\n",
       "          await google.colab.kernel.invokeFunction('convertToInteractive',\n",
       "                                                    [key], {});\n",
       "        if (!dataTable) return;\n",
       "\n",
       "        const docLinkHtml = 'Like what you see? Visit the ' +\n",
       "          '<a target=\"_blank\" href=https://colab.research.google.com/notebooks/data_table.ipynb>data table notebook</a>'\n",
       "          + ' to learn more about interactive tables.';\n",
       "        element.innerHTML = '';\n",
       "        dataTable['output_type'] = 'display_data';\n",
       "        await google.colab.output.renderOutput(dataTable, element);\n",
       "        const docLink = document.createElement('div');\n",
       "        docLink.innerHTML = docLinkHtml;\n",
       "        element.appendChild(docLink);\n",
       "      }\n",
       "    </script>\n",
       "  </div>\n",
       "\n",
       "\n",
       "<div id=\"df-6ab7be70-4b34-43a5-b11b-51f4c7bca94a\">\n",
       "  <button class=\"colab-df-quickchart\" onclick=\"quickchart('df-6ab7be70-4b34-43a5-b11b-51f4c7bca94a')\"\n",
       "            title=\"Suggest charts\"\n",
       "            style=\"display:none;\">\n",
       "\n",
       "<svg xmlns=\"http://www.w3.org/2000/svg\" height=\"24px\"viewBox=\"0 0 24 24\"\n",
       "     width=\"24px\">\n",
       "    <g>\n",
       "        <path d=\"M19 3H5c-1.1 0-2 .9-2 2v14c0 1.1.9 2 2 2h14c1.1 0 2-.9 2-2V5c0-1.1-.9-2-2-2zM9 17H7v-7h2v7zm4 0h-2V7h2v10zm4 0h-2v-4h2v4z\"/>\n",
       "    </g>\n",
       "</svg>\n",
       "  </button>\n",
       "\n",
       "<style>\n",
       "  .colab-df-quickchart {\n",
       "      --bg-color: #E8F0FE;\n",
       "      --fill-color: #1967D2;\n",
       "      --hover-bg-color: #E2EBFA;\n",
       "      --hover-fill-color: #174EA6;\n",
       "      --disabled-fill-color: #AAA;\n",
       "      --disabled-bg-color: #DDD;\n",
       "  }\n",
       "\n",
       "  [theme=dark] .colab-df-quickchart {\n",
       "      --bg-color: #3B4455;\n",
       "      --fill-color: #D2E3FC;\n",
       "      --hover-bg-color: #434B5C;\n",
       "      --hover-fill-color: #FFFFFF;\n",
       "      --disabled-bg-color: #3B4455;\n",
       "      --disabled-fill-color: #666;\n",
       "  }\n",
       "\n",
       "  .colab-df-quickchart {\n",
       "    background-color: var(--bg-color);\n",
       "    border: none;\n",
       "    border-radius: 50%;\n",
       "    cursor: pointer;\n",
       "    display: none;\n",
       "    fill: var(--fill-color);\n",
       "    height: 32px;\n",
       "    padding: 0;\n",
       "    width: 32px;\n",
       "  }\n",
       "\n",
       "  .colab-df-quickchart:hover {\n",
       "    background-color: var(--hover-bg-color);\n",
       "    box-shadow: 0 1px 2px rgba(60, 64, 67, 0.3), 0 1px 3px 1px rgba(60, 64, 67, 0.15);\n",
       "    fill: var(--button-hover-fill-color);\n",
       "  }\n",
       "\n",
       "  .colab-df-quickchart-complete:disabled,\n",
       "  .colab-df-quickchart-complete:disabled:hover {\n",
       "    background-color: var(--disabled-bg-color);\n",
       "    fill: var(--disabled-fill-color);\n",
       "    box-shadow: none;\n",
       "  }\n",
       "\n",
       "  .colab-df-spinner {\n",
       "    border: 2px solid var(--fill-color);\n",
       "    border-color: transparent;\n",
       "    border-bottom-color: var(--fill-color);\n",
       "    animation:\n",
       "      spin 1s steps(1) infinite;\n",
       "  }\n",
       "\n",
       "  @keyframes spin {\n",
       "    0% {\n",
       "      border-color: transparent;\n",
       "      border-bottom-color: var(--fill-color);\n",
       "      border-left-color: var(--fill-color);\n",
       "    }\n",
       "    20% {\n",
       "      border-color: transparent;\n",
       "      border-left-color: var(--fill-color);\n",
       "      border-top-color: var(--fill-color);\n",
       "    }\n",
       "    30% {\n",
       "      border-color: transparent;\n",
       "      border-left-color: var(--fill-color);\n",
       "      border-top-color: var(--fill-color);\n",
       "      border-right-color: var(--fill-color);\n",
       "    }\n",
       "    40% {\n",
       "      border-color: transparent;\n",
       "      border-right-color: var(--fill-color);\n",
       "      border-top-color: var(--fill-color);\n",
       "    }\n",
       "    60% {\n",
       "      border-color: transparent;\n",
       "      border-right-color: var(--fill-color);\n",
       "    }\n",
       "    80% {\n",
       "      border-color: transparent;\n",
       "      border-right-color: var(--fill-color);\n",
       "      border-bottom-color: var(--fill-color);\n",
       "    }\n",
       "    90% {\n",
       "      border-color: transparent;\n",
       "      border-bottom-color: var(--fill-color);\n",
       "    }\n",
       "  }\n",
       "</style>\n",
       "\n",
       "  <script>\n",
       "    async function quickchart(key) {\n",
       "      const quickchartButtonEl =\n",
       "        document.querySelector('#' + key + ' button');\n",
       "      quickchartButtonEl.disabled = true;  // To prevent multiple clicks.\n",
       "      quickchartButtonEl.classList.add('colab-df-spinner');\n",
       "      try {\n",
       "        const charts = await google.colab.kernel.invokeFunction(\n",
       "            'suggestCharts', [key], {});\n",
       "      } catch (error) {\n",
       "        console.error('Error during call to suggestCharts:', error);\n",
       "      }\n",
       "      quickchartButtonEl.classList.remove('colab-df-spinner');\n",
       "      quickchartButtonEl.classList.add('colab-df-quickchart-complete');\n",
       "    }\n",
       "    (() => {\n",
       "      let quickchartButtonEl =\n",
       "        document.querySelector('#df-6ab7be70-4b34-43a5-b11b-51f4c7bca94a button');\n",
       "      quickchartButtonEl.style.display =\n",
       "        google.colab.kernel.accessAllowed ? 'block' : 'none';\n",
       "    })();\n",
       "  </script>\n",
       "</div>\n",
       "    </div>\n",
       "  </div>\n"
      ],
      "text/plain": [
       "              Strain    Type  Rating  \\\n",
       "0             100-Og  hybrid     4.0   \n",
       "1     98-White-Widow  hybrid     4.7   \n",
       "2               1024  sativa     4.4   \n",
       "3           13-Dawgs  hybrid     4.2   \n",
       "4           24K-Gold  hybrid     4.6   \n",
       "...              ...     ...     ...   \n",
       "2346         Zeus-Og  hybrid     4.7   \n",
       "2347        Zkittlez  indica     4.6   \n",
       "2348     Zombie-Kush  indica     5.0   \n",
       "2349       Zombie-Og  indica     4.4   \n",
       "2350        Zoom-Pie  indica     4.6   \n",
       "\n",
       "                                         Effects                     Flavor  \\\n",
       "0     Creative,Energetic,Tingly,Euphoric,Relaxed        Earthy,Sweet,Citrus   \n",
       "1       Relaxed,Aroused,Creative,Happy,Energetic      Flowery,Violet,Diesel   \n",
       "2      Uplifted,Happy,Relaxed,Energetic,Creative    Spicy/Herbal,Sage,Woody   \n",
       "3        Tingly,Creative,Hungry,Relaxed,Uplifted  Apricot,Citrus,Grapefruit   \n",
       "4      Happy,Relaxed,Euphoric,Uplifted,Talkative       Citrus,Earthy,Orange   \n",
       "...                                          ...                        ...   \n",
       "2346   Happy,Uplifted,Relaxed,Euphoric,Energetic          Earthy,Woody,Pine   \n",
       "2347      Relaxed,Happy,Euphoric,Uplifted,Sleepy          Sweet,Berry,Grape   \n",
       "2348     Relaxed,Sleepy,Talkative,Euphoric,Happy  Earthy,Sweet,Spicy/Herbal   \n",
       "2349        Relaxed,Sleepy,Euphoric,Happy,Hungry       Sweet,Earthy,Pungent   \n",
       "2350        Hungry,Relaxed,Uplifted,Happy,Sleepy       Berry,Earthy,Pungent   \n",
       "\n",
       "      Creative  Energetic  Tingly  Euphoric  Relaxed  ...  Ammonia  Minty  \\\n",
       "0          1.0        1.0     1.0       1.0      1.0  ...      0.0    0.0   \n",
       "1          1.0        1.0     0.0       0.0      1.0  ...      0.0    0.0   \n",
       "2          1.0        1.0     0.0       0.0      1.0  ...      0.0    0.0   \n",
       "3          1.0        0.0     1.0       0.0      1.0  ...      0.0    0.0   \n",
       "4          0.0        0.0     0.0       1.0      1.0  ...      0.0    0.0   \n",
       "...        ...        ...     ...       ...      ...  ...      ...    ...   \n",
       "2346       0.0        1.0     0.0       1.0      1.0  ...      0.0    0.0   \n",
       "2347       0.0        0.0     0.0       1.0      1.0  ...      0.0    0.0   \n",
       "2348       0.0        0.0     0.0       1.0      1.0  ...      0.0    0.0   \n",
       "2349       0.0        0.0     0.0       1.0      1.0  ...      0.0    0.0   \n",
       "2350       0.0        0.0     0.0       0.0      1.0  ...      0.0    0.0   \n",
       "\n",
       "      Tree  Fruit  Butter  Pineapple  Tar  Rose  Plum  Pear  \n",
       "0      0.0    0.0     0.0        0.0  0.0   0.0   0.0   0.0  \n",
       "1      0.0    0.0     0.0        0.0  0.0   0.0   0.0   0.0  \n",
       "2      0.0    0.0     0.0        0.0  0.0   0.0   0.0   0.0  \n",
       "3      0.0    0.0     0.0        0.0  0.0   0.0   0.0   0.0  \n",
       "4      0.0    0.0     0.0        0.0  0.0   0.0   0.0   0.0  \n",
       "...    ...    ...     ...        ...  ...   ...   ...   ...  \n",
       "2346   0.0    0.0     0.0        0.0  0.0   0.0   0.0   0.0  \n",
       "2347   0.0    0.0     0.0        0.0  0.0   0.0   0.0   0.0  \n",
       "2348   0.0    0.0     0.0        0.0  0.0   0.0   0.0   0.0  \n",
       "2349   0.0    0.0     0.0        0.0  0.0   0.0   0.0   0.0  \n",
       "2350   0.0    0.0     0.0        0.0  0.0   0.0   0.0   0.0  \n",
       "\n",
       "[2305 rows x 69 columns]"
      ]
     },
     "execution_count": 52,
     "metadata": {},
     "output_type": "execute_result"
    }
   ],
   "source": [
    "cannabis = pd.read_csv(\"https://www.dropbox.com/s/s2a1uoiegitupjc/cannabis_full.csv?dl=1\")\n",
    "cannabis = cannabis.dropna()\n",
    "\n",
    "cannabis"
   ]
  },
  {
   "cell_type": "markdown",
   "metadata": {
    "id": "PRwTFWmrLBOt"
   },
   "source": [
    "#Part One: Binary Classification\n",
    "Create a dataset that is limited only to the Sativa and Indica type cannabis strains.\n",
    "\n",
    "This section asks you to create a final best model for each of the four new model types studied this week: LDA, QDA, SVC, and SVM. For SVM, you may limit yourself to only the polynomial kernel.\n",
    "\n",
    "For each, you should:\n",
    "\n",
    "Choose a metric you will use to select your model, and briefly justify your choice. (Hint: There is no specific target category here, so this should not be a metric that only prioritizes one category.)\n",
    "\n",
    "Find the best model for predicting the Type variable. Don’t forget to tune any hyperparameters.\n",
    "\n",
    "Report the (cross-validated!) metric.\n",
    "\n",
    "Fit the final model.\n",
    "\n",
    "Output a confusion matrix."
   ]
  },
  {
   "cell_type": "code",
   "execution_count": 37,
   "metadata": {
    "id": "yj8Ni07W3IzJ"
   },
   "outputs": [],
   "source": [
    "cannabis1 = cannabis[(cannabis[\"Type\"] == \"sativa\") | (cannabis[\"Type\"] == \"indica\")]\n",
    "X = cannabis1.drop([\"Strain\", \"Type\", \"Effects\", \"Flavor\"], axis = 1)\n",
    "y = cannabis1[\"Type\"]\n",
    "\n",
    "X_train, X_test, y_train, y_test = train_test_split(X, y, test_size = 0.2, random_state = 42)\n",
    "scaler = StandardScaler()\n",
    "X_train = scaler.fit_transform(X_train)\n",
    "X_test = scaler.transform(X_test)"
   ]
  },
  {
   "cell_type": "markdown",
   "metadata": {
    "id": "9VqOEOdtPHzk"
   },
   "source": [
    "#Q1: LDA"
   ]
  },
  {
   "cell_type": "code",
   "execution_count": 38,
   "metadata": {
    "colab": {
     "base_uri": "https://localhost:8080/"
    },
    "id": "FyU6fSfPOc1A",
    "outputId": "ac7e593c-0215-4bb3-ff4a-44439f37d23a"
   },
   "outputs": [
    {
     "name": "stdout",
     "output_type": "stream",
     "text": [
      "Cross-validated Accuracy: 0.8322139225409579\n",
      "Confusion Matrix:\n",
      " [[119  18]\n",
      " [ 19  68]]\n",
      "Classification Report:\n",
      "               precision    recall  f1-score   support\n",
      "\n",
      "      indica       0.86      0.87      0.87       137\n",
      "      sativa       0.79      0.78      0.79        87\n",
      "\n",
      "    accuracy                           0.83       224\n",
      "   macro avg       0.83      0.83      0.83       224\n",
      "weighted avg       0.83      0.83      0.83       224\n",
      "\n"
     ]
    }
   ],
   "source": [
    "LDA = LinearDiscriminantAnalysis()\n",
    "LDA.fit(X_train, y_train)\n",
    "\n",
    "LDA_scores = cross_val_score(LDA, X_train, y_train, cv = 5)\n",
    "\n",
    "print(f\"Cross-validated Accuracy: {LDA_scores.mean()}\")\n",
    "print(\"Confusion Matrix:\\n\", confusion_matrix(y_test, LDA.predict(X_test)))\n",
    "print(\"Classification Report:\\n\", classification_report(y_test, LDA.predict(X_test)))"
   ]
  },
  {
   "cell_type": "markdown",
   "metadata": {
    "id": "derkt6BAOxdg"
   },
   "source": [
    "#Q2: QDA"
   ]
  },
  {
   "cell_type": "code",
   "execution_count": 54,
   "metadata": {
    "colab": {
     "base_uri": "https://localhost:8080/"
    },
    "id": "Hnb4pUtRPM-y",
    "outputId": "fad43e71-4ae7-405d-a858-144f18ac5362"
   },
   "outputs": [
    {
     "name": "stdout",
     "output_type": "stream",
     "text": [
      "Cross-validated Accuracy: 0.22805897629220073\n",
      "Confusion Matrix:\n",
      " [[  5  14 276]\n",
      " [  3  13 146]\n",
      " [  4   3 113]]\n",
      "Classification Report:\n",
      "               precision    recall  f1-score   support\n",
      "\n",
      "      hybrid       0.42      0.02      0.03       295\n",
      "      indica       0.43      0.08      0.14       162\n",
      "      sativa       0.21      0.94      0.35       120\n",
      "\n",
      "    accuracy                           0.23       577\n",
      "   macro avg       0.35      0.35      0.17       577\n",
      "weighted avg       0.38      0.23      0.13       577\n",
      "\n"
     ]
    },
    {
     "name": "stderr",
     "output_type": "stream",
     "text": [
      "/usr/local/lib/python3.10/dist-packages/sklearn/discriminant_analysis.py:926: UserWarning: Variables are collinear\n",
      "  warnings.warn(\"Variables are collinear\")\n",
      "/usr/local/lib/python3.10/dist-packages/sklearn/discriminant_analysis.py:926: UserWarning: Variables are collinear\n",
      "  warnings.warn(\"Variables are collinear\")\n",
      "/usr/local/lib/python3.10/dist-packages/sklearn/discriminant_analysis.py:926: UserWarning: Variables are collinear\n",
      "  warnings.warn(\"Variables are collinear\")\n",
      "/usr/local/lib/python3.10/dist-packages/sklearn/discriminant_analysis.py:926: UserWarning: Variables are collinear\n",
      "  warnings.warn(\"Variables are collinear\")\n",
      "/usr/local/lib/python3.10/dist-packages/sklearn/discriminant_analysis.py:926: UserWarning: Variables are collinear\n",
      "  warnings.warn(\"Variables are collinear\")\n",
      "/usr/local/lib/python3.10/dist-packages/sklearn/discriminant_analysis.py:926: UserWarning: Variables are collinear\n",
      "  warnings.warn(\"Variables are collinear\")\n"
     ]
    }
   ],
   "source": [
    "QDA = QuadraticDiscriminantAnalysis()\n",
    "QDA.fit(X_train, y_train)\n",
    "\n",
    "QDA_scores = cross_val_score(QDA, X_train, y_train, cv = 5)\n",
    "\n",
    "print(f\"Cross-validated Accuracy: {QDA_scores.mean()}\")\n",
    "print(\"Confusion Matrix:\\n\", confusion_matrix(y_test, QDA.predict(X_test)))\n",
    "print(\"Classification Report:\\n\", classification_report(y_test, QDA.predict(X_test)))"
   ]
  },
  {
   "cell_type": "markdown",
   "metadata": {
    "id": "LbDKbawwPNXq"
   },
   "source": [
    "#Q3: SVC"
   ]
  },
  {
   "cell_type": "code",
   "execution_count": null,
   "metadata": {
    "colab": {
     "base_uri": "https://localhost:8080/"
    },
    "id": "mERzyv7fPUuj",
    "outputId": "40cbbb5b-a82e-42c5-a8a5-4af28a7d8961"
   },
   "outputs": [
    {
     "name": "stdout",
     "output_type": "stream",
     "text": [
      "Fitting 5 folds for each of 16 candidates, totalling 80 fits\n",
      "[CV] END ......................C=0.1, gamma=1, kernel=linear; total time=   0.1s\n",
      "[CV] END ......................C=0.1, gamma=1, kernel=linear; total time=   0.1s\n",
      "[CV] END ......................C=0.1, gamma=1, kernel=linear; total time=   0.1s\n",
      "[CV] END ......................C=0.1, gamma=1, kernel=linear; total time=   0.1s\n",
      "[CV] END ......................C=0.1, gamma=1, kernel=linear; total time=   0.1s\n",
      "[CV] END ....................C=0.1, gamma=0.1, kernel=linear; total time=   0.1s\n",
      "[CV] END ....................C=0.1, gamma=0.1, kernel=linear; total time=   0.1s\n",
      "[CV] END ....................C=0.1, gamma=0.1, kernel=linear; total time=   0.1s\n",
      "[CV] END ....................C=0.1, gamma=0.1, kernel=linear; total time=   0.1s\n",
      "[CV] END ....................C=0.1, gamma=0.1, kernel=linear; total time=   0.1s\n",
      "[CV] END ...................C=0.1, gamma=0.01, kernel=linear; total time=   0.1s\n",
      "[CV] END ...................C=0.1, gamma=0.01, kernel=linear; total time=   0.1s\n",
      "[CV] END ...................C=0.1, gamma=0.01, kernel=linear; total time=   0.1s\n",
      "[CV] END ...................C=0.1, gamma=0.01, kernel=linear; total time=   0.1s\n",
      "[CV] END ...................C=0.1, gamma=0.01, kernel=linear; total time=   0.1s\n",
      "[CV] END ..................C=0.1, gamma=0.001, kernel=linear; total time=   0.1s\n",
      "[CV] END ..................C=0.1, gamma=0.001, kernel=linear; total time=   0.1s\n",
      "[CV] END ..................C=0.1, gamma=0.001, kernel=linear; total time=   0.2s\n",
      "[CV] END ..................C=0.1, gamma=0.001, kernel=linear; total time=   0.2s\n",
      "[CV] END ..................C=0.1, gamma=0.001, kernel=linear; total time=   0.2s\n",
      "[CV] END ........................C=1, gamma=1, kernel=linear; total time=   0.2s\n",
      "[CV] END ........................C=1, gamma=1, kernel=linear; total time=   0.2s\n",
      "[CV] END ........................C=1, gamma=1, kernel=linear; total time=   0.2s\n",
      "[CV] END ........................C=1, gamma=1, kernel=linear; total time=   0.2s\n",
      "[CV] END ........................C=1, gamma=1, kernel=linear; total time=   0.2s\n",
      "[CV] END ......................C=1, gamma=0.1, kernel=linear; total time=   0.2s\n",
      "[CV] END ......................C=1, gamma=0.1, kernel=linear; total time=   0.2s\n",
      "[CV] END ......................C=1, gamma=0.1, kernel=linear; total time=   0.2s\n",
      "[CV] END ......................C=1, gamma=0.1, kernel=linear; total time=   0.2s\n",
      "[CV] END ......................C=1, gamma=0.1, kernel=linear; total time=   0.2s\n",
      "[CV] END .....................C=1, gamma=0.01, kernel=linear; total time=   0.2s\n",
      "[CV] END .....................C=1, gamma=0.01, kernel=linear; total time=   0.2s\n",
      "[CV] END .....................C=1, gamma=0.01, kernel=linear; total time=   0.2s\n",
      "[CV] END .....................C=1, gamma=0.01, kernel=linear; total time=   0.2s\n",
      "[CV] END .....................C=1, gamma=0.01, kernel=linear; total time=   0.2s\n",
      "[CV] END ....................C=1, gamma=0.001, kernel=linear; total time=   0.2s\n",
      "[CV] END ....................C=1, gamma=0.001, kernel=linear; total time=   0.2s\n",
      "[CV] END ....................C=1, gamma=0.001, kernel=linear; total time=   0.2s\n",
      "[CV] END ....................C=1, gamma=0.001, kernel=linear; total time=   0.2s\n",
      "[CV] END ....................C=1, gamma=0.001, kernel=linear; total time=   0.2s\n",
      "[CV] END .......................C=10, gamma=1, kernel=linear; total time=   0.4s\n",
      "[CV] END .......................C=10, gamma=1, kernel=linear; total time=   0.3s\n",
      "[CV] END .......................C=10, gamma=1, kernel=linear; total time=   0.4s\n",
      "[CV] END .......................C=10, gamma=1, kernel=linear; total time=   0.3s\n",
      "[CV] END .......................C=10, gamma=1, kernel=linear; total time=   0.4s\n",
      "[CV] END .....................C=10, gamma=0.1, kernel=linear; total time=   0.3s\n",
      "[CV] END .....................C=10, gamma=0.1, kernel=linear; total time=   0.3s\n",
      "[CV] END .....................C=10, gamma=0.1, kernel=linear; total time=   0.4s\n",
      "[CV] END .....................C=10, gamma=0.1, kernel=linear; total time=   0.3s\n",
      "[CV] END .....................C=10, gamma=0.1, kernel=linear; total time=   0.3s\n",
      "[CV] END ....................C=10, gamma=0.01, kernel=linear; total time=   0.3s\n",
      "[CV] END ....................C=10, gamma=0.01, kernel=linear; total time=   0.3s\n",
      "[CV] END ....................C=10, gamma=0.01, kernel=linear; total time=   0.4s\n",
      "[CV] END ....................C=10, gamma=0.01, kernel=linear; total time=   0.3s\n",
      "[CV] END ....................C=10, gamma=0.01, kernel=linear; total time=   0.4s\n",
      "[CV] END ...................C=10, gamma=0.001, kernel=linear; total time=   0.4s\n",
      "[CV] END ...................C=10, gamma=0.001, kernel=linear; total time=   0.5s\n",
      "[CV] END ...................C=10, gamma=0.001, kernel=linear; total time=   0.7s\n",
      "[CV] END ...................C=10, gamma=0.001, kernel=linear; total time=   0.6s\n",
      "[CV] END ...................C=10, gamma=0.001, kernel=linear; total time=   0.6s\n",
      "[CV] END ......................C=100, gamma=1, kernel=linear; total time=  54.0s\n",
      "[CV] END ......................C=100, gamma=1, kernel=linear; total time=  32.4s\n",
      "[CV] END ......................C=100, gamma=1, kernel=linear; total time=  31.0s\n",
      "[CV] END ......................C=100, gamma=1, kernel=linear; total time=  27.2s\n",
      "[CV] END ......................C=100, gamma=1, kernel=linear; total time=  38.2s\n",
      "[CV] END ....................C=100, gamma=0.1, kernel=linear; total time=  50.8s\n",
      "[CV] END ....................C=100, gamma=0.1, kernel=linear; total time=  34.7s\n",
      "[CV] END ....................C=100, gamma=0.1, kernel=linear; total time=  31.0s\n",
      "[CV] END ....................C=100, gamma=0.1, kernel=linear; total time=  27.1s\n",
      "[CV] END ....................C=100, gamma=0.1, kernel=linear; total time=  40.2s\n",
      "[CV] END ...................C=100, gamma=0.01, kernel=linear; total time=  58.7s\n",
      "[CV] END ...................C=100, gamma=0.01, kernel=linear; total time=  32.5s\n",
      "[CV] END ...................C=100, gamma=0.01, kernel=linear; total time=  33.0s\n",
      "[CV] END ...................C=100, gamma=0.01, kernel=linear; total time=  27.1s\n",
      "[CV] END ...................C=100, gamma=0.01, kernel=linear; total time=  38.2s\n",
      "[CV] END ..................C=100, gamma=0.001, kernel=linear; total time=  52.8s\n",
      "[CV] END ..................C=100, gamma=0.001, kernel=linear; total time=  33.1s\n",
      "[CV] END ..................C=100, gamma=0.001, kernel=linear; total time=  32.7s\n",
      "[CV] END ..................C=100, gamma=0.001, kernel=linear; total time=  25.3s\n"
     ]
    }
   ],
   "source": [
    "SVC = SVC()\n",
    "param_grid = {\"C\": [0.1, 1, 10, 100], \"gamma\": [1, 0.1, 0.01, 0.001], \"kernel\": [\"linear\"]}\n",
    "grid_SVC = GridSearchCV(SVC, param_grid, refit = True, verbose = 2, cv = 5)\n",
    "grid_SVC.fit(X_train, y_train)\n",
    "\n",
    "print(\"Best parameters found: \", grid_SVC.best_params_)\n",
    "print(\"Confusion Matrix:\\n\", confusion_matrix(y_test, grid_SVC.predict(X_test)))\n",
    "print(\"Classification Report:\\n\", classification_report(y_test, grid_SVC.predict(X_test)))"
   ]
  },
  {
   "cell_type": "markdown",
   "metadata": {
    "id": "_55RgfQPPRY4"
   },
   "source": [
    "#Q4: SVM"
   ]
  },
  {
   "cell_type": "code",
   "execution_count": 41,
   "metadata": {
    "colab": {
     "base_uri": "https://localhost:8080/"
    },
    "id": "QXSzH_FbPVbZ",
    "outputId": "a7261a10-eb91-4c90-9a65-025b132306b7"
   },
   "outputs": [
    {
     "name": "stdout",
     "output_type": "stream",
     "text": [
      "Cross-validated Accuracy: 0.70023225158496\n",
      "Confusion Matrix:\n",
      " [[126  11]\n",
      " [ 53  34]]\n",
      "Classification Report:\n",
      "               precision    recall  f1-score   support\n",
      "\n",
      "      indica       0.70      0.92      0.80       137\n",
      "      sativa       0.76      0.39      0.52        87\n",
      "\n",
      "    accuracy                           0.71       224\n",
      "   macro avg       0.73      0.66      0.66       224\n",
      "weighted avg       0.72      0.71      0.69       224\n",
      "\n"
     ]
    }
   ],
   "source": [
    "SVM_poly = SVC(kernel = \"poly\", degree = 3)\n",
    "SVM_poly.fit(X_train, y_train)\n",
    "\n",
    "SVM_poly_scores = cross_val_score(SVM_poly, X_train, y_train, cv = 5)\n",
    "\n",
    "print(f\"Cross-validated Accuracy: {SVM_poly_scores.mean()}\")\n",
    "print(\"Confusion Matrix:\\n\", confusion_matrix(y_test, SVM_poly.predict(X_test)))\n",
    "print(\"Classification Report:\\n\", classification_report(y_test, SVM_poly.predict(X_test)))"
   ]
  },
  {
   "cell_type": "markdown",
   "metadata": {
    "id": "ELu6Z70kYMnT"
   },
   "source": [
    "#Part Two: Natural Multiclass\n",
    "Now use the full dataset, including the Hybrid strains.\n",
    "\n",
    "Q1\n",
    "Fit a decision tree, plot the final fit, and interpret the results."
   ]
  },
  {
   "cell_type": "code",
   "execution_count": 42,
   "metadata": {
    "colab": {
     "base_uri": "https://localhost:8080/",
     "height": 422
    },
    "id": "-nD-157OYQOs",
    "outputId": "c4d21900-b3ee-474e-f131-c6a89402906b"
   },
   "outputs": [
    {
     "data": {
      "image/png": "[encoded data removed]",
      "text/plain": [
       "<Figure size 1000x500 with 1 Axes>"
      ]
     },
     "metadata": {},
     "output_type": "display_data"
    }
   ],
   "source": [
    "X = cannabis.drop([\"Strain\", \"Type\", \"Effects\", \"Flavor\"], axis = 1)\n",
    "y = cannabis[\"Type\"]\n",
    "\n",
    "X_train, X_test, y_train, y_test = train_test_split(X, y, test_size = 0.25, random_state = 42)\n",
    "\n",
    "scaler = StandardScaler()\n",
    "X_train = scaler.fit_transform(X_train)\n",
    "X_test = scaler.transform(X_test)\n",
    "\n",
    "dt = DecisionTreeClassifier(random_state=42)\n",
    "dt.fit(X_train, y_train)\n",
    "\n",
    "plt.figure(figsize = (10,5))\n",
    "tree.plot_tree(dt, filled = True, feature_names=X.columns, class_names=dt.classes_, max_depth = 3)\n",
    "plt.show()"
   ]
  },
  {
   "cell_type": "code",
   "execution_count": 43,
   "metadata": {
    "colab": {
     "base_uri": "https://localhost:8080/"
    },
    "id": "PCGdAYjWn1mq",
    "outputId": "c348c9f5-e4e5-408c-ae48-ef5fe231a152"
   },
   "outputs": [
    {
     "name": "stdout",
     "output_type": "stream",
     "text": [
      "Confusion Matrix:\n",
      " [[178  77  40]\n",
      " [ 67  84  11]\n",
      " [ 73  15  32]]\n",
      "Classification Report:\n",
      "               precision    recall  f1-score   support\n",
      "\n",
      "      hybrid       0.56      0.60      0.58       295\n",
      "      indica       0.48      0.52      0.50       162\n",
      "      sativa       0.39      0.27      0.32       120\n",
      "\n",
      "    accuracy                           0.51       577\n",
      "   macro avg       0.47      0.46      0.46       577\n",
      "weighted avg       0.50      0.51      0.50       577\n",
      "\n"
     ]
    }
   ],
   "source": [
    "print(\"Confusion Matrix:\\n\", confusion_matrix(y_test, dt.predict(X_test)))\n",
    "print(\"Classification Report:\\n\", classification_report(y_test, dt.predict(X_test)))"
   ]
  },
  {
   "cell_type": "markdown",
   "metadata": {
    "id": "JooCNlBLYQkk"
   },
   "source": [
    "Q2 Repeat the analyses from Part One for LDA, QDA, and KNN."
   ]
  },
  {
   "cell_type": "code",
   "execution_count": 44,
   "metadata": {
    "colab": {
     "base_uri": "https://localhost:8080/"
    },
    "id": "VTAGaiD3YW-j",
    "outputId": "10901e99-460e-467b-b3c3-15808861e9ad"
   },
   "outputs": [
    {
     "name": "stdout",
     "output_type": "stream",
     "text": [
      "LDA Confusion Matrix:\n",
      " [[211  56  28]\n",
      " [ 62  96   4]\n",
      " [ 62   9  49]]\n",
      "LDA Classification Report:\n",
      "               precision    recall  f1-score   support\n",
      "\n",
      "      hybrid       0.63      0.72      0.67       295\n",
      "      indica       0.60      0.59      0.59       162\n",
      "      sativa       0.60      0.41      0.49       120\n",
      "\n",
      "    accuracy                           0.62       577\n",
      "   macro avg       0.61      0.57      0.58       577\n",
      "weighted avg       0.62      0.62      0.61       577\n",
      "\n",
      "QDA Confusion Matrix:\n",
      " [[ 21  74 200]\n",
      " [ 14  54  94]\n",
      " [  7  16  97]]\n",
      "QDA Classification Report:\n",
      "               precision    recall  f1-score   support\n",
      "\n",
      "      hybrid       0.50      0.07      0.12       295\n",
      "      indica       0.38      0.33      0.35       162\n",
      "      sativa       0.25      0.81      0.38       120\n",
      "\n",
      "    accuracy                           0.30       577\n",
      "   macro avg       0.37      0.40      0.29       577\n",
      "weighted avg       0.41      0.30      0.24       577\n",
      "\n"
     ]
    },
    {
     "name": "stderr",
     "output_type": "stream",
     "text": [
      "/usr/local/lib/python3.10/dist-packages/sklearn/discriminant_analysis.py:926: UserWarning: Variables are collinear\n",
      "  warnings.warn(\"Variables are collinear\")\n"
     ]
    },
    {
     "name": "stdout",
     "output_type": "stream",
     "text": [
      "Best KNN parameters: {'n_neighbors': 15}\n",
      "KNN Confusion Matrix:\n",
      " [[230  60   5]\n",
      " [ 89  73   0]\n",
      " [ 95  11  14]]\n",
      "KNN Classification Report:\n",
      "               precision    recall  f1-score   support\n",
      "\n",
      "      hybrid       0.56      0.78      0.65       295\n",
      "      indica       0.51      0.45      0.48       162\n",
      "      sativa       0.74      0.12      0.20       120\n",
      "\n",
      "    accuracy                           0.55       577\n",
      "   macro avg       0.60      0.45      0.44       577\n",
      "weighted avg       0.58      0.55      0.51       577\n",
      "\n"
     ]
    }
   ],
   "source": [
    "LDA = LinearDiscriminantAnalysis()\n",
    "LDA.fit(X_train, y_train)\n",
    "\n",
    "print(\"LDA Confusion Matrix:\\n\", confusion_matrix(y_test, LDA.predict(X_test)))\n",
    "print(\"LDA Classification Report:\\n\", classification_report(y_test, LDA.predict(X_test)))\n",
    "\n",
    "QDA = QuadraticDiscriminantAnalysis()\n",
    "QDA.fit(X_train, y_train)\n",
    "\n",
    "print(\"QDA Confusion Matrix:\\n\", confusion_matrix(y_test, QDA.predict(X_test)))\n",
    "print(\"QDA Classification Report:\\n\", classification_report(y_test, QDA.predict(X_test)))\n",
    "\n",
    "KNN = KNeighborsClassifier()\n",
    "param_grid_KNN = {'n_neighbors': [3, 5, 7, 9, 11, 13, 15]}\n",
    "grid_KNN = GridSearchCV(KNN, param_grid_KNN, cv = 5)\n",
    "grid_KNN.fit(X_train, y_train)\n",
    "\n",
    "print(\"Best KNN parameters:\", grid_KNN.best_params_)\n",
    "print(\"KNN Confusion Matrix:\\n\", confusion_matrix(y_test, grid_KNN.predict(X_test)))\n",
    "print(\"KNN Classification Report:\\n\", classification_report(y_test, grid_KNN.predict(X_test)))"
   ]
  },
  {
   "cell_type": "markdown",
   "metadata": {
    "id": "dP25mu-tYVtK"
   },
   "source": [
    "Q3\n",
    "Were your metrics better or worse than in Part One? Why? Which categories were most likely to get mixed up, according to the confusion matrices? Why?"
   ]
  },
  {
   "cell_type": "markdown",
   "metadata": {
    "id": "yHhHRveSoMTG"
   },
   "source": [
    "The metrics in Part One (binary categorization of Sativa and Indica) were typically better than those of Part Two (multiclass classification including hybrid strains), according to the research. It is most likely because of the increased difficulty of differentiating between three categories (Hybrid, Indica, and Sativa) rather than simply two that performance has decreased. It is intrinsically harder for the models to distinguish between many classes in multiclass classification, particularly when the classes have similar attributes.\n",
    "\n",
    "It seems that the Hybrid category was most commonly confused with the other two, based on the confusion matrices. This is most likely due to the fact that hybrid strains frequently exhibit traits from both Indica and Sativa, which makes them less distinctive and more challenging to categorize. As a result, the models may have had trouble identifying distinctive characteristics that regularly distinguished Hybrid strains from one another. Although less obvious, there was still some misunderstanding between Sativa and Indica, indicating that there may be some similarities between their traits. All things considered, our findings demonstrate the complexity of cannabis strain categorization and the difficulties in applying machine learning algorithms to differentiate between strains that have similar characteristics.\n"
   ]
  },
  {
   "cell_type": "markdown",
   "metadata": {
    "id": "U1AUamAwYv1-"
   },
   "source": [
    "#Part Three: Multiclass from Binary\n",
    "\n",
    "Consider two models designed for binary classification: SVC and Logistic Regression.\n",
    "\n",
    "Q1\n",
    "Fit and report metrics for OvR versions of the models. That is, for each of the two model types, create three models:\n",
    "\n",
    "Indica vs. Not Indica\n",
    "\n",
    "Sativa vs. Not Sativa\n",
    "\n",
    "Hybrid vs. Not Hybrid"
   ]
  },
  {
   "cell_type": "code",
   "execution_count": 33,
   "metadata": {
    "colab": {
     "base_uri": "https://localhost:8080/"
    },
    "id": "tVHGkTqqY0xH",
    "outputId": "309699dc-cd7c-49cd-a698-47d7bd0d6b3a"
   },
   "outputs": [
    {
     "name": "stdout",
     "output_type": "stream",
     "text": [
      "Logistic Regression - Indica vs. Not Indica\n",
      "Confusion Matrix:\n",
      " [[361  54]\n",
      " [ 69  93]]\n",
      "Classification Report:\n",
      "               precision    recall  f1-score   support\n",
      "\n",
      "           0       0.84      0.87      0.85       415\n",
      "           1       0.63      0.57      0.60       162\n",
      "\n",
      "    accuracy                           0.79       577\n",
      "   macro avg       0.74      0.72      0.73       577\n",
      "weighted avg       0.78      0.79      0.78       577\n",
      "\n",
      "SVC - Indica vs. Not Indica\n",
      "Confusion Matrix:\n",
      " [[346  69]\n",
      " [ 64  98]]\n",
      "Classification Report:\n",
      "               precision    recall  f1-score   support\n",
      "\n",
      "           0       0.84      0.83      0.84       415\n",
      "           1       0.59      0.60      0.60       162\n",
      "\n",
      "    accuracy                           0.77       577\n",
      "   macro avg       0.72      0.72      0.72       577\n",
      "weighted avg       0.77      0.77      0.77       577\n",
      "\n"
     ]
    }
   ],
   "source": [
    "y_indica = (cannabis[\"Type\"] == \"indica\").astype(int)\n",
    "\n",
    "X_train, X_test, y_train_indica, y_test_indica = train_test_split(X, y_indica, test_size = 0.25, random_state = 42)\n",
    "\n",
    "LR_indica = LogisticRegression()\n",
    "LR_indica.fit(X_train, y_train_indica)\n",
    "\n",
    "print(\"Logistic Regression - Indica vs. Not Indica\")\n",
    "print(\"Confusion Matrix:\\n\", confusion_matrix(y_test_indica, LR_indica.predict(X_test)))\n",
    "print(\"Classification Report:\\n\", classification_report(y_test_indica, LR_indica.predict(X_test)))\n",
    "\n",
    "SVC_indica = SVC()\n",
    "SVC_indica.fit(X_train, y_train_indica)\n",
    "\n",
    "print(\"SVC - Indica vs. Not Indica\")\n",
    "print(\"Confusion Matrix:\\n\", confusion_matrix(y_test_indica, SVC_indica.predict(X_test)))\n",
    "print(\"Classification Report:\\n\", classification_report(y_test_indica, SVC_indica.predict(X_test)))"
   ]
  },
  {
   "cell_type": "code",
   "execution_count": 34,
   "metadata": {
    "colab": {
     "base_uri": "https://localhost:8080/"
    },
    "id": "4MeOtUmxY15F",
    "outputId": "fa12f6f6-1d38-4254-9b5e-38f57e297cb4"
   },
   "outputs": [
    {
     "name": "stdout",
     "output_type": "stream",
     "text": [
      "Logistic Regression - Sativa vs. Not Sativa\n",
      "Confusion Matrix:\n",
      " [[440  17]\n",
      " [ 86  34]]\n",
      "Classification Report:\n",
      "               precision    recall  f1-score   support\n",
      "\n",
      "           0       0.84      0.96      0.90       457\n",
      "           1       0.67      0.28      0.40       120\n",
      "\n",
      "    accuracy                           0.82       577\n",
      "   macro avg       0.75      0.62      0.65       577\n",
      "weighted avg       0.80      0.82      0.79       577\n",
      "\n",
      "SVC - Sativa vs. Not Sativa\n",
      "Confusion Matrix:\n",
      " [[457   0]\n",
      " [120   0]]\n",
      "Classification Report:\n",
      "               precision    recall  f1-score   support\n",
      "\n",
      "           0       0.79      1.00      0.88       457\n",
      "           1       0.00      0.00      0.00       120\n",
      "\n",
      "    accuracy                           0.79       577\n",
      "   macro avg       0.40      0.50      0.44       577\n",
      "weighted avg       0.63      0.79      0.70       577\n",
      "\n"
     ]
    },
    {
     "name": "stderr",
     "output_type": "stream",
     "text": [
      "/usr/local/lib/python3.10/dist-packages/sklearn/metrics/_classification.py:1344: UndefinedMetricWarning: Precision and F-score are ill-defined and being set to 0.0 in labels with no predicted samples. Use `zero_division` parameter to control this behavior.\n",
      "  _warn_prf(average, modifier, msg_start, len(result))\n",
      "/usr/local/lib/python3.10/dist-packages/sklearn/metrics/_classification.py:1344: UndefinedMetricWarning: Precision and F-score are ill-defined and being set to 0.0 in labels with no predicted samples. Use `zero_division` parameter to control this behavior.\n",
      "  _warn_prf(average, modifier, msg_start, len(result))\n",
      "/usr/local/lib/python3.10/dist-packages/sklearn/metrics/_classification.py:1344: UndefinedMetricWarning: Precision and F-score are ill-defined and being set to 0.0 in labels with no predicted samples. Use `zero_division` parameter to control this behavior.\n",
      "  _warn_prf(average, modifier, msg_start, len(result))\n"
     ]
    }
   ],
   "source": [
    "y_sativa = (cannabis[\"Type\"] == \"sativa\").astype(int)\n",
    "\n",
    "X_train, X_test, y_train_sativa, y_test_sativa = train_test_split(X, y_sativa, test_size = 0.25, random_state = 42)\n",
    "\n",
    "LR_sativa = LogisticRegression()\n",
    "LR_sativa.fit(X_train, y_train_sativa)\n",
    "\n",
    "print(\"Logistic Regression - Sativa vs. Not Sativa\")\n",
    "print(\"Confusion Matrix:\\n\", confusion_matrix(y_test_sativa, LR_sativa.predict(X_test)))\n",
    "print(\"Classification Report:\\n\", classification_report(y_test_sativa, LR_sativa.predict(X_test)))\n",
    "\n",
    "SVC_sativa = SVC()\n",
    "SVC_sativa.fit(X_train, y_train_sativa)\n",
    "\n",
    "print(\"SVC - Sativa vs. Not Sativa\")\n",
    "print(\"Confusion Matrix:\\n\", confusion_matrix(y_test_sativa, SVC_sativa.predict(X_test)))\n",
    "print(\"Classification Report:\\n\", classification_report(y_test_sativa, SVC_sativa.predict(X_test)))"
   ]
  },
  {
   "cell_type": "code",
   "execution_count": 46,
   "metadata": {
    "colab": {
     "base_uri": "https://localhost:8080/"
    },
    "id": "cloW1IytB7ge",
    "outputId": "9c456a11-7541-44f4-f290-9fc73754da93"
   },
   "outputs": [
    {
     "name": "stdout",
     "output_type": "stream",
     "text": [
      "Logistic Regression - Hybrid vs. Not Hybrid\n",
      "Confusion Matrix:\n",
      " [[140 142]\n",
      " [ 88 207]]\n",
      "Classification Report:\n",
      "               precision    recall  f1-score   support\n",
      "\n",
      "           0       0.61      0.50      0.55       282\n",
      "           1       0.59      0.70      0.64       295\n",
      "\n",
      "    accuracy                           0.60       577\n",
      "   macro avg       0.60      0.60      0.60       577\n",
      "weighted avg       0.60      0.60      0.60       577\n",
      "\n",
      "SVC - Hybrid vs. Not Hybrid\n",
      "Confusion Matrix:\n",
      " [[107 175]\n",
      " [ 60 235]]\n",
      "Classification Report:\n",
      "               precision    recall  f1-score   support\n",
      "\n",
      "           0       0.64      0.38      0.48       282\n",
      "           1       0.57      0.80      0.67       295\n",
      "\n",
      "    accuracy                           0.59       577\n",
      "   macro avg       0.61      0.59      0.57       577\n",
      "weighted avg       0.61      0.59      0.57       577\n",
      "\n"
     ]
    }
   ],
   "source": [
    "y_hybrid = (cannabis[\"Type\"] == \"hybrid\").astype(int)\n",
    "\n",
    "X_train, X_test, y_train_hybrid, y_test_hybrid = train_test_split(X, y_hybrid, test_size = 0.25, random_state = 42)\n",
    "\n",
    "LR_hybrid = LogisticRegression()\n",
    "LR_hybrid.fit(X_train, y_train_hybrid)\n",
    "\n",
    "print(\"Logistic Regression - Hybrid vs. Not Hybrid\")\n",
    "print(\"Confusion Matrix:\\n\", confusion_matrix(y_test_hybrid, LR_hybrid.predict(X_test)))\n",
    "print(\"Classification Report:\\n\", classification_report(y_test_hybrid, LR_hybrid.predict(X_test)))\n",
    "\n",
    "SVC_hybrid = SVC()\n",
    "SVC_hybrid.fit(X_train, y_train_hybrid)\n",
    "\n",
    "print(\"SVC - Hybrid vs. Not Hybrid\")\n",
    "print(\"Confusion Matrix:\\n\", confusion_matrix(y_test_hybrid, SVC_hybrid.predict(X_test)))\n",
    "print(\"Classification Report:\\n\", classification_report(y_test_hybrid, SVC_hybrid.predict(X_test)))"
   ]
  },
  {
   "cell_type": "markdown",
   "metadata": {
    "id": "fzhWrZNiY1G1"
   },
   "source": [
    "Q2\n",
    "Which of the six models did the best job distinguishing the target category from the rest? Which did the worst? Does this make intuitive sense?"
   ]
  },
  {
   "cell_type": "markdown",
   "metadata": {
    "id": "QiBUfKsvDTMQ"
   },
   "source": [
    "The Logistic Regression model for \"Indica vs. Not Indica\" performed the best among the six models we evaluated in terms of differentiating the target category from the others. Its accuracy was the greatest and it demonstrated an excellent balance between recall and precision. Conversely, the SVC model for \"Sativa vs. Not Sativa\" had the greatest difficulty. It appears to have been strongly skewed towards the more prevalent 'Not Sativa' category because it was unable to accurately identify any Sativa strains. This makes sense since models may overfit to predict the majority class in datasets when one class is significantly more prevalent than the other. This is very likely what transpired with the Sativa SVC model. In general, the models of Logistic Regression appeared to manage the"
   ]
  },
  {
   "cell_type": "markdown",
   "metadata": {
    "id": "QGVAn6cMY2QR"
   },
   "source": [
    "Q3 Fit and report metrics for OvO versions of the models. That is, for each of the two model types, create three models:\n",
    "\n",
    "Indica vs. Sativa\n",
    "\n",
    "Indica vs. Hybrid\n",
    "\n",
    "Hybrid vs. Sativa"
   ]
  },
  {
   "cell_type": "code",
   "execution_count": 50,
   "metadata": {
    "colab": {
     "base_uri": "https://localhost:8080/"
    },
    "id": "wzqfBeNcY42C",
    "outputId": "7004216a-38b0-47c4-8461-a425befc2712"
   },
   "outputs": [
    {
     "name": "stdout",
     "output_type": "stream",
     "text": [
      "Logistic Regression - Indica vs. Sativa\n",
      "Confusion Matrix:\n",
      " [[161  17]\n",
      " [ 15  87]]\n",
      "Classification Report:\n",
      "               precision    recall  f1-score   support\n",
      "\n",
      "           0       0.91      0.90      0.91       178\n",
      "           1       0.84      0.85      0.84       102\n",
      "\n",
      "    accuracy                           0.89       280\n",
      "   macro avg       0.88      0.88      0.88       280\n",
      "weighted avg       0.89      0.89      0.89       280\n",
      "\n",
      "SVC - Indica vs. Sativa\n",
      "Confusion Matrix:\n",
      " [[166  12]\n",
      " [ 19  83]]\n",
      "Classification Report:\n",
      "               precision    recall  f1-score   support\n",
      "\n",
      "           0       0.90      0.93      0.91       178\n",
      "           1       0.87      0.81      0.84       102\n",
      "\n",
      "    accuracy                           0.89       280\n",
      "   macro avg       0.89      0.87      0.88       280\n",
      "weighted avg       0.89      0.89      0.89       280\n",
      "\n"
     ]
    }
   ],
   "source": [
    "cannabis_ivs = cannabis[cannabis[\"Type\"].isin([\"indica\", \"sativa\"])]\n",
    "X_ivs = cannabis_ivs.drop([\"Strain\", \"Type\", \"Effects\", \"Flavor\"], axis = 1)\n",
    "y_ivs = cannabis_ivs[\"Type\"].map({\"indica\": 0, \"sativa\": 1})\n",
    "\n",
    "X_train_ivs, X_test_ivs, y_train_ivs, y_test_ivs = train_test_split(X_ivs, y_ivs, test_size = 0.25, random_state = 42)\n",
    "\n",
    "LR_ivs = LogisticRegression()\n",
    "LR_ivs.fit(X_train_ivs, y_train_ivs)\n",
    "\n",
    "print(\"Logistic Regression - Indica vs. Sativa\")\n",
    "print(\"Confusion Matrix:\\n\", confusion_matrix(y_test_ivs, LR_ivs.predict(X_test_ivs)))\n",
    "print(\"Classification Report:\\n\", classification_report(y_test_ivs, LR_ivs.predict(X_test_ivs)))\n",
    "\n",
    "SVC_ivs = SVC()\n",
    "SVC_ivs.fit(X_train_ivs, y_train_ivs)\n",
    "\n",
    "print(\"SVC - Indica vs. Sativa\")\n",
    "print(\"Confusion Matrix:\\n\", confusion_matrix(y_test_ivs, SVC_ivs.predict(X_test_ivs)))\n",
    "print(\"Classification Report:\\n\", classification_report(y_test_ivs, SVC_ivs.predict(X_test_ivs)))"
   ]
  },
  {
   "cell_type": "code",
   "execution_count": 49,
   "metadata": {
    "colab": {
     "base_uri": "https://localhost:8080/"
    },
    "id": "Xg8XI7UsDeee",
    "outputId": "1ee65855-1dd8-4f60-eed3-0aa537a23862"
   },
   "outputs": [
    {
     "name": "stdout",
     "output_type": "stream",
     "text": [
      "Logistic Regression - Indica vs. Hybrid\n",
      "[[102  82]\n",
      " [ 47 238]]\n",
      "              precision    recall  f1-score   support\n",
      "\n",
      "           0       0.68      0.55      0.61       184\n",
      "           1       0.74      0.84      0.79       285\n",
      "\n",
      "    accuracy                           0.72       469\n",
      "   macro avg       0.71      0.69      0.70       469\n",
      "weighted avg       0.72      0.72      0.72       469\n",
      "\n",
      "SVC - Indica vs. Hybrid\n",
      "[[120  64]\n",
      " [ 55 230]]\n",
      "              precision    recall  f1-score   support\n",
      "\n",
      "           0       0.69      0.65      0.67       184\n",
      "           1       0.78      0.81      0.79       285\n",
      "\n",
      "    accuracy                           0.75       469\n",
      "   macro avg       0.73      0.73      0.73       469\n",
      "weighted avg       0.74      0.75      0.75       469\n",
      "\n"
     ]
    }
   ],
   "source": [
    "cannabis_ivh = cannabis[cannabis[\"Type\"].isin([\"indica\", \"hybrid\"])]\n",
    "X_ivh = cannabis_ivh.drop([\"Strain\", \"Type\", \"Effects\", \"Flavor\"], axis = 1)\n",
    "y_ivh = cannabis_ivh[\"Type\"].map({\"indica\": 0, \"hybrid\": 1})\n",
    "\n",
    "X_train_ivh, X_test_ivh, y_train_ivh, y_test_ivh = train_test_split(X_ivh, y_ivh, test_size = 0.25, random_state = 42)\n",
    "\n",
    "LR_ivh = LogisticRegression(max_iter = 1000)\n",
    "LR_ivh.fit(X_train_ivh, y_train_ivh)\n",
    "\n",
    "print(\"Logistic Regression - Indica vs. Hybrid\")\n",
    "print(confusion_matrix(y_test_ivh, LR_ivh.predict(X_test_ivh)))\n",
    "print(classification_report(y_test_ivh, LR_ivh.predict(X_test_ivh)))\n",
    "\n",
    "SVC_ivh = SVC()\n",
    "SVC_ivh.fit(X_train_ivh, y_train_ivh)\n",
    "\n",
    "print(\"SVC - Indica vs. Hybrid\")\n",
    "print(confusion_matrix(y_test_ivh, SVC_ivh.predict(X_test_ivh)))\n",
    "print(classification_report(y_test_ivh, SVC_ivh.predict(X_test_ivh)))"
   ]
  },
  {
   "cell_type": "code",
   "execution_count": 51,
   "metadata": {
    "colab": {
     "base_uri": "https://localhost:8080/"
    },
    "id": "B8gvo-rKDfDX",
    "outputId": "1efaaf00-f5ef-458f-9b91-3dd607001907"
   },
   "outputs": [
    {
     "name": "stdout",
     "output_type": "stream",
     "text": [
      "Logistic Regression - Hybrid vs. Sativa\n",
      "[[270  27]\n",
      " [ 75  33]]\n",
      "              precision    recall  f1-score   support\n",
      "\n",
      "           0       0.78      0.91      0.84       297\n",
      "           1       0.55      0.31      0.39       108\n",
      "\n",
      "    accuracy                           0.75       405\n",
      "   macro avg       0.67      0.61      0.62       405\n",
      "weighted avg       0.72      0.75      0.72       405\n",
      "\n",
      "SVC - Hybrid vs. Sativa\n",
      "[[296   1]\n",
      " [108   0]]\n",
      "              precision    recall  f1-score   support\n",
      "\n",
      "           0       0.73      1.00      0.84       297\n",
      "           1       0.00      0.00      0.00       108\n",
      "\n",
      "    accuracy                           0.73       405\n",
      "   macro avg       0.37      0.50      0.42       405\n",
      "weighted avg       0.54      0.73      0.62       405\n",
      "\n"
     ]
    }
   ],
   "source": [
    "cannabis_hvs = cannabis[cannabis[\"Type\"].isin([\"hybrid\", \"sativa\"])]\n",
    "X_hvs = cannabis_hvs.drop([\"Strain\", \"Type\", \"Effects\", \"Flavor\"], axis = 1)\n",
    "y_hvs = cannabis_hvs[\"Type\"].map({\"hybrid\": 0, \"sativa\": 1})\n",
    "\n",
    "X_train_hvs, X_test_hvs, y_train_hvs, y_test_hvs = train_test_split(X_hvs, y_hvs, test_size = 0.25, random_state = 42)\n",
    "\n",
    "LR_hvs = LogisticRegression(max_iter = 1000)\n",
    "LR_hvs.fit(X_train_hvs, y_train_hvs)\n",
    "\n",
    "print(\"Logistic Regression - Hybrid vs. Sativa\")\n",
    "print(confusion_matrix(y_test_hvs, LR_hvs.predict(X_test_hvs)))\n",
    "print(classification_report(y_test_hvs, LR_hvs.predict(X_test_hvs)))\n",
    "\n",
    "SVC_hvs = SVC(max_iter = 1000)\n",
    "SVC_hvs.fit(X_train_hvs, y_train_hvs)\n",
    "\n",
    "print(\"SVC - Hybrid vs. Sativa\")\n",
    "print(confusion_matrix(y_test_hvs, SVC_hvs.predict(X_test_hvs)))\n",
    "print(classification_report(y_test_hvs, SVC_hvs.predict(X_test_hvs)))"
   ]
  },
  {
   "cell_type": "markdown",
   "metadata": {
    "id": "mrbTEZuFY5J5"
   },
   "source": [
    "Q4 Which of the six models did the best job distinguishing at differentiating the two groups? Which did the worst? Does this make intuitive sense?"
   ]
  },
  {
   "cell_type": "markdown",
   "metadata": {
    "id": "UHWzENG0JTdq"
   },
   "source": [
    "The models for \"Indica vs. Sativa\" that combined SVC and Logistic Regression performed the best in differentiating the two groups out of the six One-versus-One models. For both Indica and Sativa strains, they demonstrated excellent accuracy and a nice balance between recall and precision. This makes sense—Indica and Sativa strains are often thought to have quite different qualities.Conversely, the \"Hybrid vs. Sativa\" SVC model had the most difficulty. The 0 accuracy and recall ratings for Sativa indicate that it was unable to accurately identify any strains of the plant.\n",
    "\n",
    "Overall, these findings demonstrate that while models can be very successful at differentiating between some groups (e.g., Indica and Sativa), they may struggle with other groups."
   ]
  },
  {
   "cell_type": "markdown",
   "metadata": {
    "id": "ln6NAPgnY7HE"
   },
   "source": [
    "Q5 Suppose you had simply input the full data, with three classes, into the LogisticRegression function. Would this have automatically taken an “OvO” approach or an “OvR” approach?\n",
    "\n",
    "What about for SVC?"
   ]
  },
  {
   "cell_type": "markdown",
   "metadata": {
    "id": "wIkZntAeMHXm"
   },
   "source": [
    "In the realm of machine learning, when the Logistic Regression in scikit-learn for a problem has multiple classes, it automatically adopts a One-vs-Rest (OvR) strategy. This means it creates individual classifiers for each class, pitting one against all others.\n",
    "\n",
    "On the other hand, if the use of Support Vector Classifier (SVC), it takes a different approach called One-vs-One (OvO). Here, SVC builds a classifier for every pair of classes and then uses a voting system among these classifiers to make the final decision. This distinction in strategies is crucial for understanding how these models behave and perform in multiclass classification tasks."
   ]
  }
 ],
 "metadata": {
  "colab": {
   "provenance": []
  },
  "kernelspec": {
   "display_name": "Python 3 (ipykernel)",
   "language": "python",
   "name": "python3"
  },
  "language_info": {
   "codemirror_mode": {
    "name": "ipython",
    "version": 3
   },
   "file_extension": ".py",
   "mimetype": "text/x-python",
   "name": "python",
   "nbconvert_exporter": "python",
   "pygments_lexer": "ipython3",
   "version": "3.11.4"
  }
 },
 "nbformat": 4,
 "nbformat_minor": 1
}
